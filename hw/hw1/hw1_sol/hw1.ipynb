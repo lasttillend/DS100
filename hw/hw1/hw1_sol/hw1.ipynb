{
 "cells": [
  {
   "cell_type": "code",
   "execution_count": null,
   "metadata": {
    "deletable": false,
    "editable": false
   },
   "outputs": [],
   "source": [
    "# Initialize OK\n",
    "from client.api.notebook import Notebook\n",
    "ok = Notebook('hw1.ok')"
   ]
  },
  {
   "cell_type": "markdown",
   "metadata": {
    "nbgrader": {
     "grade": false,
     "grade_id": "title",
     "locked": true,
     "schema_version": 2,
     "solution": false
    }
   },
   "source": [
    "# HW 1: Math Review and Plotting\n",
    "## Due Date: Monday 1/28, 11:59 PM\n",
    "## Collaboration Policy\n",
    "\n",
    "Data science is a collaborative activity. While you may talk with others about\n",
    "the homework, we ask that you **write your solutions individually**. If you do\n",
    "discuss the assignments with others please **include their names** at the top\n",
    "of your notebook."
   ]
  },
  {
   "cell_type": "markdown",
   "metadata": {},
   "source": [
    "**Collaborators**: *list collaborators here*"
   ]
  },
  {
   "cell_type": "markdown",
   "metadata": {},
   "source": [
    "## This Assignment\n",
    "\n",
    "One of the purposes of this homework is to help you diagnose your preparedness for the course. The rest of this course will assume familiarity with the programming and math concepts covered in this homework. If you struggle with this homework, please consider reviewing prerequisite material.\n",
    "\n",
    "## Score Breakdown\n",
    "Question | Points\n",
    "--- | ---\n",
    "1 | 1\n",
    "2a | 1\n",
    "2b | 1\n",
    "2c | 1\n",
    "2d | 1\n",
    "3 | 4\n",
    "4a | 3\n",
    "4b | 2\n",
    "4c | 2\n",
    "4d | 2\n",
    "4e | 2\n",
    "5 | 2\n",
    "6 | 4\n",
    "7 | 2\n",
    "8 | 4\n",
    "Total | 32"
   ]
  },
  {
   "cell_type": "markdown",
   "metadata": {
    "nbgrader": {
     "grade": false,
     "grade_id": "jupyter-shortcuts",
     "locked": true,
     "schema_version": 2,
     "solution": false
    }
   },
   "source": [
    "Here are some useful Jupyter notebook keyboard shortcuts.  To learn more keyboard shortcuts, go to **Help -> Keyboard Shortcuts** in the menu above. \n",
    "\n",
    "Here are a few we like:\n",
    "1. `ctrl`+`return` : *Evaluate the current cell*\n",
    "1. `shift`+`return`: *Evaluate the current cell and move to the next*\n",
    "1. `esc` : *command mode* (may need to press before using any of the commands below)\n",
    "1. `a` : *create a cell above*\n",
    "1. `b` : *create a cell below*\n",
    "1. `dd` : *delete a cell*\n",
    "1. `m` : *convert a cell to markdown*\n",
    "1. `y` : *convert a cell to code*"
   ]
  },
  {
   "cell_type": "markdown",
   "metadata": {
    "nbgrader": {
     "grade": false,
     "grade_id": "testing-your-setup",
     "locked": true,
     "schema_version": 2,
     "solution": false
    }
   },
   "source": [
    "### Initialize your environment\n",
    "\n",
    "This cell should run without error if you're using the course Jupyter Hub or you have [set up your personal computer correctly](http://www.ds100.org/sp19/setup)."
   ]
  },
  {
   "cell_type": "code",
   "execution_count": 2,
   "metadata": {
    "nbgrader": {
     "grade": false,
     "grade_id": "all-the-imports",
     "locked": true,
     "schema_version": 2,
     "solution": false
    }
   },
   "outputs": [],
   "source": [
    "import numpy as np\n",
    "import matplotlib\n",
    "%matplotlib inline\n",
    "import matplotlib.pyplot as plt\n",
    "plt.style.use('fivethirtyeight')"
   ]
  },
  {
   "cell_type": "markdown",
   "metadata": {
    "deletable": false,
    "editable": false,
    "nbgrader": {
     "grade": false,
     "grade_id": "question-1d",
     "locked": true,
     "schema_version": 2,
     "solution": false
    }
   },
   "source": [
    "---\n",
    "## Python\n",
    "### Question 1\n",
    "Recall the formula for population variance below:\n",
    "\n",
    "$$\\sigma^2 = \\frac{\\sum_{i=1}^N (x_i - \\mu)^2}{N}$$\n",
    "\n",
    "Complete the functions below to compute the population variance of `population`, an array of numbers. For this question, do not use built in NumPy functions; we will use NumPy to verify your code.\n",
    "\n",
    "<!--\n",
    "BEGIN QUESTION\n",
    "name: q1\n",
    "points: 1\n",
    "-->"
   ]
  },
  {
   "cell_type": "code",
   "execution_count": 2,
   "metadata": {
    "nbgrader": {
     "grade": false,
     "grade_id": "mean-variance",
     "locked": false,
     "schema_version": 2,
     "solution": true
    }
   },
   "outputs": [],
   "source": [
    "def mean(population):\n",
    "    \"\"\"\n",
    "    Returns the mean of population (mu)\n",
    "    \n",
    "    Keyword arguments:\n",
    "    population -- a numpy array of numbers\n",
    "    \"\"\"\n",
    "    # Calculate the mean of a population\n",
    "    return sum(population) / len(population) # SOLUTION\n",
    "\n",
    "def variance(population):\n",
    "    \"\"\"\n",
    "    Returns the variance of population (sigma squared)\n",
    "    \n",
    "    Keyword arguments:\n",
    "    population -- a numpy array of numbers\n",
    "    \"\"\"\n",
    "    # Calculate the variance of a population\n",
    "    # BEGIN SOLUTION\n",
    "    m = mean(population)\n",
    "    return sum((xi - m) ** 2 for xi in population) / len(population)\n",
    "    # END SOLUTION"
   ]
  },
  {
   "cell_type": "code",
   "execution_count": null,
   "metadata": {
    "deletable": false,
    "editable": false
   },
   "outputs": [],
   "source": [
    "ok.grade(\"q1\");"
   ]
  },
  {
   "cell_type": "markdown",
   "metadata": {
    "nbgrader": {
     "grade": false,
     "grade_id": "numpy-and-tables",
     "locked": true,
     "schema_version": 2,
     "solution": false
    }
   },
   "source": [
    "---\n",
    "## NumPy\n",
    "\n",
    "You should be able to understand the code in the following cells. If not, review the following:\n",
    "\n",
    "* [DS100 NumPy Review](http://ds100.org/fa17/assets/notebooks/numpy/Numpy_Review.html)\n",
    "* [Condensed NumPy Review](http://cs231n.github.io/python-numpy-tutorial/#numpy)\n",
    "* [The Official NumPy Tutorial](https://docs.scipy.org/doc/numpy-dev/user/quickstart.html)\n",
    "* [The Data 8 Textbook Chapter on NumPy](https://www.inferentialthinking.com/chapters/05/1/Arrays)"
   ]
  },
  {
   "cell_type": "markdown",
   "metadata": {
    "nbgrader": {
     "grade": false,
     "grade_id": "jupyter-pro-tip",
     "locked": true,
     "schema_version": 2,
     "solution": false
    }
   },
   "source": [
    "**Jupyter pro-tip**: Pull up the docs for any function in Jupyter by running a cell with\n",
    "the function name and a `?` at the end:"
   ]
  },
  {
   "cell_type": "code",
   "execution_count": 7,
   "metadata": {
    "nbgrader": {
     "grade": false,
     "grade_id": "np-arange-huh",
     "locked": true,
     "schema_version": 2,
     "solution": false
    }
   },
   "outputs": [],
   "source": [
    "np.arange?"
   ]
  },
  {
   "cell_type": "markdown",
   "metadata": {
    "nbgrader": {
     "grade": false,
     "grade_id": "cell-61d40faa50614fbc",
     "locked": true,
     "schema_version": 2,
     "solution": false
    }
   },
   "source": [
    "You can close the window at the bottom by pressing `esc` several times. "
   ]
  },
  {
   "cell_type": "markdown",
   "metadata": {
    "nbgrader": {
     "grade": false,
     "grade_id": "jupyter-pro-tip-two",
     "locked": true,
     "schema_version": 2,
     "solution": false
    }
   },
   "source": [
    "**Another Jupyter pro-tip**: Pull up the docs for any function in Jupyter by typing the function\n",
    "name, then `<Shift>-<Tab>` on your keyboard. This is super convenient when you forget the order\n",
    "of the arguments to a function. You can press `<Tab>` multiple times to expand the docs and reveal additional information.\n",
    "\n",
    "Try it on the function below:"
   ]
  },
  {
   "cell_type": "code",
   "execution_count": 8,
   "metadata": {
    "scrolled": true
   },
   "outputs": [],
   "source": [
    "np.linspace"
   ]
  },
  {
   "cell_type": "markdown",
   "metadata": {},
   "source": [
    "Now, let's go through some linear algebra coding questions with NumPy. In this question, we'll ask you to use your linear algebra knowledge to fill in NumPy matrices. To conduct matrix multiplication in NumPy, you should write code like the following:"
   ]
  },
  {
   "cell_type": "code",
   "execution_count": 9,
   "metadata": {},
   "outputs": [],
   "source": [
    "# A matrix in NumPy is a 2-dimensional NumPy array\n",
    "matA = np.array([\n",
    "    [1, 2, 3],\n",
    "    [4, 5, 6],\n",
    "])\n",
    "\n",
    "matB = np.array([\n",
    "    [10, 11],\n",
    "    [12, 13],\n",
    "    [14, 15],\n",
    "])\n",
    "\n",
    "# The notation B @ v means: compute the matrix multiplication Bv\n",
    "matA @ matB"
   ]
  },
  {
   "cell_type": "markdown",
   "metadata": {},
   "source": [
    "You can also use the same syntax to do matrix-vector multiplication or vector dot products. Handy!"
   ]
  },
  {
   "cell_type": "code",
   "execution_count": 10,
   "metadata": {},
   "outputs": [],
   "source": [
    "matA = np.array([\n",
    "    [1, 2, 3],\n",
    "    [4, 5, 6],\n",
    "])\n",
    "\n",
    "# A vector in NumPy is simply a 1-dimensional NumPy array\n",
    "some_vec = np.array([ 10, 12, 14, ])\n",
    "\n",
    "another_vec = np.array([ 10, 20, 30 ])\n",
    "\n",
    "print(matA @ some_vec)\n",
    "print(some_vec @ another_vec)"
   ]
  },
  {
   "cell_type": "markdown",
   "metadata": {
    "deletable": false,
    "editable": false
   },
   "source": [
    "#### Question 2a\n",
    "\n",
    "Joey, Deb, and Sam are shopping for fruit at Berkeley Bowl. Berkeley Bowl, true to its name, only sells fruit bowls. A fruit bowl contains some fruit and the price of a fruit bowl is the total price of all of its individual fruit.\n",
    "\n",
    "Berkeley Bowl has apples for \\\\$2.00, bananas for \\\\$1.00, and cantaloupes for \\\\$4.00 (expensive!). The price of each of these can be written in a vector:\n",
    "\n",
    "$$\n",
    "\\vec{v} = \\begin{bmatrix}\n",
    "     2 \\\\\n",
    "     1 \\\\\n",
    "     4 \\\\\n",
    "\\end{bmatrix}\n",
    "$$\n",
    "\n",
    "Berkeley Bowl sells the following fruit bowls:\n",
    "\n",
    "1. 2 of each fruit\n",
    "2. 5 apples and 8 bananas\n",
    "3. 2 bananas and 3 cantaloupes\n",
    "4. 10 cantaloupes\n",
    "\n",
    "Create a 2-dimensional numpy array encoding the matrix $B$ such that the matrix-vector multiplication\n",
    "\n",
    "$$\n",
    "B\\vec{v}\n",
    "$$\n",
    "\n",
    "evaluates to a length 4 column vector containing the price of each fruit bowl. The first entry of the result should be the cost of fruit bowl #1, the second entry the cost of fruit bowl #2, etc.\n",
    "\n",
    "<!--\n",
    "BEGIN QUESTION\n",
    "name: q2a\n",
    "points: 1\n",
    "-->"
   ]
  },
  {
   "cell_type": "code",
   "execution_count": 11,
   "metadata": {},
   "outputs": [],
   "source": [
    "v = np.array([2,1,4])\n",
    "\n",
    "# BEGIN SOLUTION NO PROMPT\n",
    "B = np.array([\n",
    "    [2, 2, 2],\n",
    "    [5, 8, 0],\n",
    "    [0, 2, 3],\n",
    "    [0, 0, 10]\n",
    "])\n",
    "# END SOLUTION\n",
    "\"\"\" # BEGIN PROMPT\n",
    "B = ...\n",
    "\"\"\"; # END PROMPT\n",
    "\n",
    "# The notation B @ v means: compute the matrix multiplication Bv\n",
    "B @ v"
   ]
  },
  {
   "cell_type": "code",
   "execution_count": null,
   "metadata": {
    "deletable": false,
    "editable": false
   },
   "outputs": [],
   "source": [
    "ok.grade(\"q2a\");"
   ]
  },
  {
   "cell_type": "markdown",
   "metadata": {
    "deletable": false,
    "editable": false
   },
   "source": [
    "#### Question 2b\n",
    "\n",
    "Joey, Deb, and Sam make the following purchases:\n",
    "\n",
    "- Joey buys 2 fruit bowl #1s and 1 fruit bowl #2.\n",
    "- Deb buys 1 of each fruit bowl.\n",
    "- Sam buys 10 fruit bowl #4s (he really like cantaloupes).\n",
    "\n",
    "Create a matrix $A$ such that the matrix expression\n",
    "\n",
    "$$\n",
    "AB\\vec{v}\n",
    "$$\n",
    "\n",
    "evaluates to a length 3 column vector containing how much each of them spent. The first entry of the result should be the total amount spent by Joey, the second entry the amount sent by Deb, etc.\n",
    "\n",
    "Note that the tests for this question do not tell you whether your answer is correct. That's up to you to determine.\n",
    "\n",
    "<!--\n",
    "BEGIN QUESTION\n",
    "name: q2b\n",
    "points: 1\n",
    "-->"
   ]
  },
  {
   "cell_type": "code",
   "execution_count": 14,
   "metadata": {},
   "outputs": [],
   "source": [
    "A = np.array([\n",
    "    [2, 1, 0, 0],\n",
    "    # Finish this!\n",
    "    # BEGIN SOLUTION\n",
    "    [1, 1, 1, 1], \n",
    "    [0, 0, 0, 10] \n",
    "    # END SOLUTION\n",
    "]) \n",
    "\n",
    "A @ B @ v "
   ]
  },
  {
   "cell_type": "code",
   "execution_count": null,
   "metadata": {
    "deletable": false,
    "editable": false
   },
   "outputs": [],
   "source": [
    "ok.grade(\"q2b\");"
   ]
  },
  {
   "cell_type": "markdown",
   "metadata": {
    "deletable": false,
    "editable": false
   },
   "source": [
    "#### Question 2c\n",
    "\n",
    "Who spent the most money? Assign `most` to a string containing the name of this person.\n",
    "\n",
    "<!--\n",
    "BEGIN QUESTION\n",
    "name: q2c\n",
    "points: 1\n",
    "-->"
   ]
  },
  {
   "cell_type": "code",
   "execution_count": 17,
   "metadata": {},
   "outputs": [],
   "source": [
    "most = \"Sam\" # SOLUTION"
   ]
  },
  {
   "cell_type": "code",
   "execution_count": null,
   "metadata": {
    "deletable": false,
    "editable": false
   },
   "outputs": [],
   "source": [
    "ok.grade(\"q2c\");"
   ]
  },
  {
   "cell_type": "markdown",
   "metadata": {
    "deletable": false,
    "editable": false
   },
   "source": [
    "#### Question 2d\n",
    "\n",
    "Let's suppose Berkeley Bowl changes their fruit prices, but you don't know what they changed their prices to. Joey, Deb, and Sam buy the same quantity of fruit baskets and the number of fruit in each basket is the same, but now they each spent these amounts:\n",
    "\n",
    "$$\n",
    "\\vec{x} = \\begin{bmatrix}\n",
    "    80 \\\\\n",
    "    80 \\\\\n",
    "    100 \\\\\n",
    "\\end{bmatrix}\n",
    "$$\n",
    "\n",
    "Use `np.linalg.inv` and the above final costs to compute the new prices for the individual fruits as a vector called `new_v`.\n",
    "\n",
    "<!--\n",
    "BEGIN QUESTION\n",
    "name: q2d\n",
    "points: 1\n",
    "-->"
   ]
  },
  {
   "cell_type": "code",
   "execution_count": 20,
   "metadata": {},
   "outputs": [],
   "source": [
    "new_v = np.linalg.inv(A @ B) @ np.array([80, 80, 100]) # SOLUTION\n",
    "new_v"
   ]
  },
  {
   "cell_type": "code",
   "execution_count": null,
   "metadata": {
    "deletable": false,
    "editable": false
   },
   "outputs": [],
   "source": [
    "ok.grade(\"q2d\");"
   ]
  },
  {
   "cell_type": "markdown",
   "metadata": {
    "nbgrader": {
     "grade": false,
     "grade_id": "mv-calc",
     "locked": true,
     "schema_version": 2,
     "solution": false
    }
   },
   "source": [
    "---\n",
    "## Multivariable Calculus, Linear Algebra, and Probability\n",
    "\n",
    "The following questions ask you to recall your knowledge of multivariable calculus, linear algebra, and probability. We will use some of the most fundamental concepts from each discipline in this class, so the following problems should at least seem familiar to you.\n",
    "\n",
    "For the following problems, you should use LaTeX to format your answer. If you aren't familiar with LaTeX, not to worry. It's not hard to use in a Jupyter notebook. Just place your math in between dollar signs:\n",
    "\n",
    "\\\\$ f(x) = 2x \\\\$ becomes $ f(x) = 2x $.\n",
    "\n",
    "If you have a longer equation, use double dollar signs to place it on a line by itself:\n",
    "\n",
    "\\\\$\\\\$ \\sum_{i=0}^n i^2 \\\\$\\\\$ becomes:\n",
    "\n",
    "$$ \\sum_{i=0}^n i^2 $$.\n",
    "\n",
    "Here is some handy notation:\n",
    "\n",
    "| Output | Latex   |\n",
    "|:--|:--|\n",
    "| $$x^{a + b}$$  | `x^{a + b}` |\n",
    "| $$x_{a + b}$$ | `x_{a + b}` |\n",
    "| $$\\frac{a}{b}$$ | `\\frac{a}{b}` |\n",
    "| $$\\sqrt{a + b}$$ | `\\sqrt{a + b}` |\n",
    "| $$\\{ \\alpha, \\beta, \\gamma, \\pi, \\mu, \\sigma^2  \\}$$ | `\\{ \\alpha, \\beta, \\gamma, \\pi, \\mu, \\sigma^2  \\}` |\n",
    "| $$\\sum_{x=1}^{100}$$ | `\\sum_{x=1}^{100}` |\n",
    "| $$\\frac{\\partial}{\\partial x} $$ | `\\frac{\\partial}{\\partial x} ` |\n",
    "| $$\\begin{bmatrix} 2x + 4y \\\\ 4x + 6y^2 \\\\ \\end{bmatrix}$$ | `\\begin{bmatrix} 2x + 4y \\\\ 4x + 6y^2 \\\\ \\end{bmatrix}`|\n",
    "\n",
    "\n",
    "\n",
    "[For more about basic LaTeX formatting, you can read this article.](https://www.sharelatex.com/learn/Mathematical_expressions)\n",
    "\n",
    "If you have trouble with these topics, we suggest reviewing:\n",
    "\n",
    "- [Khan Academy's Multivariable Calculus](https://www.khanacademy.org/math/multivariable-calculus)\n",
    "- [Khan Academy's Linear Algebra](https://www.khanacademy.org/math/linear-algebra)\n",
    "- [Khan Academy's Statistics and Probability](https://www.khanacademy.org/math/statistics-probability)"
   ]
  },
  {
   "cell_type": "markdown",
   "metadata": {
    "nbgrader": {
     "grade": false,
     "grade_id": "question-4a",
     "locked": true,
     "schema_version": 2,
     "solution": false
    }
   },
   "source": [
    "Recall that summation (or sigma notation) is a way of expressing a long sum in a concise way.  Let $a_1, a_2, ..., a_n \\in \\mathbb{R}$ and $x_1, x_2, ..., x_n \\in \\mathbb{R}$ be collections of real numbers.  When you see $x_i$, you can think of the $i$ as an index for the $i^{th}$ $x$.  For example $x_2$ is the second $x$ value in the list $x_1, x_2, ..., x_n$.  We define sigma notation as follows:\n",
    "\n",
    "$$ \\sum_{i=1}^n a_i x_i = a_1 x_1 + a_2 x_2 + ... + a_n x_n $$\n",
    "\t\n",
    "We commonly use sigma notation to compactly write the definition of the arithmetic mean (commonly known as the ``average``):\n",
    "\t\n",
    "$$ \\bar{x} = \\dfrac{1}{n} \\left(x_1 + x_2 + ... + x_n \\right) = \\dfrac{1}{n} \\sum_{i=1}^{n} x_i $$\n",
    "\t\n",
    "\n",
    "#### Question 3\n",
    "\n",
    "**For each of the statements below, either prove that it is true by using definitions or show that it is false by providing a counterexample.**"
   ]
  },
  {
   "cell_type": "markdown",
   "metadata": {
    "deletable": false,
    "editable": false,
    "nbgrader": {
     "grade": false,
     "grade_id": "4a-statement-I",
     "locked": true,
     "schema_version": 2,
     "solution": false
    }
   },
   "source": [
    "#### Statement I\n",
    "$\\dfrac{\\sum_{i=1}^{n} a_i x_i}{\\sum_{i=1}^{n} a_i} = \\sum_{i=1}^n x_i$ \n",
    "\n",
    "<!--\n",
    "BEGIN QUESTION\n",
    "name: q3a\n",
    "manual: true\n",
    "points: 1\n",
    "-->\n",
    "<!-- EXPORT TO PDF -->"
   ]
  },
  {
   "cell_type": "markdown",
   "metadata": {
    "nbgrader": {
     "grade": true,
     "grade_id": "4a-statement-I-answer",
     "locked": false,
     "points": 1,
     "schema_version": 2,
     "solution": true
    }
   },
   "source": [
    "**SOLUTION:** \n",
    "**False**.  Let $a_1 = a_2 = x_1 = x_2 = 1$.  Then\n",
    "$$ \n",
    "\\dfrac{\\sum_{i=1}^{2} a_i x_i}{\\sum_{i=1}^{2} a_i} \n",
    "= \\dfrac{1 \\times 1 + 1 \\times 1}{1 + 1}\n",
    "= \\dfrac{2}{2} \n",
    "= 1$$\n",
    "but\n",
    "$$\n",
    "\\sum_{i=1}^2 x_i = 1 + 1 = 2\n",
    "$$"
   ]
  },
  {
   "cell_type": "markdown",
   "metadata": {
    "deletable": false,
    "editable": false,
    "nbgrader": {
     "grade": false,
     "grade_id": "4a-statement-II",
     "locked": true,
     "schema_version": 2,
     "solution": false
    }
   },
   "source": [
    "#### Statement II\n",
    "$\\sum_{i=1}^{n} x_1 = nx_1$\n",
    "\n",
    "<!--\n",
    "BEGIN QUESTION\n",
    "name: q3b\n",
    "manual: true\n",
    "points: 1\n",
    "-->\n",
    "<!-- EXPORT TO PDF -->"
   ]
  },
  {
   "cell_type": "markdown",
   "metadata": {
    "nbgrader": {
     "grade": true,
     "grade_id": "cell-4a-statement-II-answer",
     "locked": false,
     "points": 1,
     "schema_version": 2,
     "solution": true
    }
   },
   "source": [
    "**SOLUTION:** \n",
    "**True**.\n",
    "\t\t\t$$ \\sum_{i=1}^{n} x_1 = \\underbrace{x_1 + x_1 + ... + x_1}_{n \\text{ times}} = nx_1 $$"
   ]
  },
  {
   "cell_type": "markdown",
   "metadata": {
    "deletable": false,
    "editable": false,
    "nbgrader": {
     "grade": false,
     "grade_id": "4a-statement-III",
     "locked": true,
     "schema_version": 2,
     "solution": false
    }
   },
   "source": [
    "#### Statement III\n",
    "$\\sum_{i=1}^{n} a_3 x_i = n a_3 \\bar{x}$\n",
    "\n",
    "<!--\n",
    "BEGIN QUESTION\n",
    "name: q3c\n",
    "manual: true\n",
    "points: 1\n",
    "-->\n",
    "<!-- EXPORT TO PDF -->"
   ]
  },
  {
   "cell_type": "markdown",
   "metadata": {
    "nbgrader": {
     "grade": true,
     "grade_id": "4a-statement-III-answer",
     "locked": false,
     "points": 1,
     "schema_version": 2,
     "solution": true
    }
   },
   "source": [
    "**SOLUTION:** \n",
    "**True**.\n",
    "\t\t\t$$ \n",
    "\t\t\t\\sum_{i=1}^{n} a_3 x_i \n",
    "\t\t\t= a_3 \\sum_{i=1}^{n} x_i\n",
    "\t\t\t= a_3 n \\dfrac{1}{n} \\sum_{i=1}^{n} x_i\n",
    "\t\t\t= n a_3 \\left( \\dfrac{1}{n} \\sum_{i=1}^{n} x_i \\right)\n",
    "\t\t\t= n a_3 \\bar{x} \n",
    "\t\t\t$$"
   ]
  },
  {
   "cell_type": "markdown",
   "metadata": {
    "deletable": false,
    "editable": false,
    "nbgrader": {
     "grade": false,
     "grade_id": "4a-statement-IV",
     "locked": true,
     "schema_version": 2,
     "solution": false
    }
   },
   "source": [
    "#### Statement IV\n",
    "$\\sum_{i=1}^{n} a_i x_i = n \\bar{a} \\bar{x}$\n",
    "\n",
    "<!--\n",
    "BEGIN QUESTION\n",
    "name: q3d\n",
    "manual: true\n",
    "points: 1\n",
    "-->\n",
    "<!-- EXPORT TO PDF -->"
   ]
  },
  {
   "cell_type": "markdown",
   "metadata": {
    "nbgrader": {
     "grade": true,
     "grade_id": "4a-statement-IV-answer",
     "locked": false,
     "points": 1,
     "schema_version": 2,
     "solution": true
    }
   },
   "source": [
    "**SOLUTION:** \n",
    "**False**.  Consider $a_1 = x_2 = 0$ and $a_2 = x_1 = 1$.  Then \n",
    "\t\t\t$$ \\sum_{i=1}^{2} a_i x_i \n",
    "\t\t\t= 0 \\times 1 + 1 \\times 0\n",
    "\t\t\t= 0\n",
    "\t\t\t$$\n",
    "\t\t\tbut\n",
    "\t\t\t$$\n",
    "\t\t\tn \\bar{a} \\bar{x}\n",
    "\t\t\t= 2 \\times \\dfrac{0 + 1}{2} \\times \\dfrac{1 + 0}{2}\n",
    "\t\t\t= 2 \\times \\dfrac{1}{2} \\times \\dfrac{1}{2}\n",
    "\t\t\t= \\dfrac{1}{2}\n",
    "\t\t\t$$"
   ]
  },
  {
   "cell_type": "markdown",
   "metadata": {
    "nbgrader": {
     "grade": false,
     "grade_id": "matrix-note",
     "locked": true,
     "schema_version": 2,
     "solution": false
    }
   },
   "source": [
    "**Note:**\n",
    "\n",
    "We can also generalize the summation concepts above to multiple indices: consider an array of values $x_{ij}$\n",
    "\t\n",
    "$$ \\begin{bmatrix} x_{1,1} & x_{1, 2} & ... & x_{1, n} \\\\ \n",
    "x_{2,1} & x_{2, 2} & ... & x_{2, n} \\\\ \n",
    "\\vdots  & \\vdots   & \\ddots & \\vdots   \\\\ \n",
    "x_{n,1} & x_{n, 2} & ... & x_{n, n} \\\\ \n",
    "\\end{bmatrix} $$\n",
    "\t\n",
    "By convention, the first index refers to the row and the second index references the column.  e.g. $x_{2, 4}$ is the value in the second row and the fourth column.  For multi-indexed arrays like this, we can write down the sum of all the values by evoking sigma notation multiple times:\n",
    "\n",
    "\\begin{align*} \n",
    "\t\\sum_{i=1}^{n} \\sum_{j=1}^{n} x_{i,j}\n",
    "\t&= \\sum_{i=1}^{n} \\left(\\sum_{j=1}^{n} x_{i,j} \\right) \\\\\n",
    "\t&= \\sum_{i=1}^{n} \\left(x_{i,1} + x_{i,2} + ... + x_{i,n}\\right) \\\\\n",
    "\t&= \\sum_{i=1}^{n} x_{i,1} + \\sum_{i=1}^{n} x_{i,2} + ... + \\sum_{i=1}^{n} x_{i,n} \\\\\n",
    "\t&= \\left(x_{1,1} + x_{1,2} + ... + x_{1,n}\\right) + \\left(x_{2,1} + x_{2,2} + ... + x_{2,n}\\right) + ... +  \\left(x_{n,1} + x_{n,2} + ... + x_{n,n}\\right) \\\\\n",
    "\t&= x_{1,1} + x_{1,2} + ... + x_{1,n} + x_{2,1} + x_{2,2} + ... + x_{2,n} + ... + ... + x_{n,1} + x_{n,2} + ... + x_{n,n}\n",
    "\\end{align*}\n",
    "\t"
   ]
  },
  {
   "cell_type": "markdown",
   "metadata": {
    "deletable": false,
    "editable": false,
    "nbgrader": {
     "grade": false,
     "grade_id": "question-4c-x",
     "locked": true,
     "schema_version": 2,
     "solution": false
    },
    "tags": [
     "written"
    ]
   },
   "source": [
    "#### Question 4a\n",
    "\n",
    "Suppose we have the following scalar-valued function on $x$ and $y$:\n",
    "\n",
    "$$ f(x, y) = x^2 + 4xy + 2y^3 + e^{-3y} + \\ln(2y) $$\n",
    "\n",
    "Compute the partial derivative of $f(x,y)$ with respect to $x$.\n",
    "\n",
    "<!--\n",
    "BEGIN QUESTION\n",
    "name: q4ai\n",
    "manual: true\n",
    "points: 1\n",
    "-->\n",
    "<!-- EXPORT TO PDF -->"
   ]
  },
  {
   "cell_type": "markdown",
   "metadata": {
    "nbgrader": {
     "grade": true,
     "grade_id": "question4c-x-answer",
     "locked": false,
     "points": 1,
     "schema_version": 2,
     "solution": true
    },
    "tags": [
     "solution"
    ]
   },
   "source": [
    "**SOLUTION:** $$ \\frac{\\partial}{\\partial x} f(x,y) = 2x + 4y $$"
   ]
  },
  {
   "cell_type": "markdown",
   "metadata": {
    "deletable": false,
    "editable": false,
    "nbgrader": {
     "grade": false,
     "grade_id": "question4c-y",
     "locked": true,
     "schema_version": 2,
     "solution": false
    },
    "tags": [
     "written"
    ]
   },
   "source": [
    "Now compute the partial derivative of $f(x,y)$ with respect to $y$:\n",
    "\n",
    "<!--\n",
    "BEGIN QUESTION\n",
    "name: q4aii\n",
    "manual: true\n",
    "points: 1\n",
    "-->\n",
    "<!-- EXPORT TO PDF -->"
   ]
  },
  {
   "cell_type": "markdown",
   "metadata": {
    "nbgrader": {
     "grade": true,
     "grade_id": "question4c-y-answer",
     "locked": false,
     "points": 1,
     "schema_version": 2,
     "solution": true
    },
    "tags": [
     "solution"
    ]
   },
   "source": [
    "**SOLUTION:** $$ \\frac{\\partial}{\\partial y} f(x,y) = 4x + 6y^2 -3 e^{-3y} + \\frac{2}{2y} $$"
   ]
  },
  {
   "cell_type": "markdown",
   "metadata": {
    "deletable": false,
    "editable": false
   },
   "source": [
    "Finally, using your answers to the above two parts, compute $\\nabla f(x, y)$ (the gradient of $f(x,y)$) and evaluate the gradient at the point ($x = 2, y = -1$).\n",
    "\n",
    "<!--\n",
    "BEGIN QUESTION\n",
    "name: q4aiii\n",
    "manual: true\n",
    "points: 1\n",
    "-->\n",
    "<!-- EXPORT TO PDF -->"
   ]
  },
  {
   "cell_type": "markdown",
   "metadata": {},
   "source": [
    "**SOLUTION:** $$ \\nabla f(x, y) = [2x + 4y, 4x + 6y^2 -3 e^{-3y} + \\frac{2}{2y}]^T $$\n",
    "**SOLUTION:** $$ \\nabla f(2, -1) = [0, 13 - 3 e^{3}]^T $$"
   ]
  },
  {
   "cell_type": "markdown",
   "metadata": {
    "deletable": false,
    "editable": false,
    "nbgrader": {
     "grade": false,
     "grade_id": "question-4d",
     "locked": true,
     "schema_version": 2,
     "solution": false
    }
   },
   "source": [
    "#### Question 4b\n",
    "\n",
    "Find the value(s) of $x$ which minimizes the expression below. Justify why it is the minimum.\n",
    "\n",
    "$\\sum_{i=1}^{10} (i - x)^2$\n",
    "\n",
    "<!--\n",
    "BEGIN QUESTION\n",
    "name: q4b\n",
    "manual: true\n",
    "points: 2\n",
    "-->\n",
    "<!-- EXPORT TO PDF -->"
   ]
  },
  {
   "cell_type": "markdown",
   "metadata": {
    "nbgrader": {
     "grade": true,
     "grade_id": "question-4d-a-answer",
     "locked": false,
     "points": 2,
     "schema_version": 2,
     "solution": true
    }
   },
   "source": [
    "**SOLUTION:** To find the critical points, we need to find the first derivative with respect to $x$\n",
    "\t\t\n",
    "\\begin{align*}\\dfrac{\\mathrm{d}}{\\mathrm{d}x}\\sum_{i=1}^{10} (i - x)^2 \n",
    "\t\t\t&= \\sum_{i=1}^{10} \\dfrac{\\mathrm{d}}{\\mathrm{d}x} (i - x)^2 \\\\\n",
    "\t\t\t&= \\sum_{i=1}^{10} -2(i - x) \\\\\n",
    "\t\t\t&= -2\\left (\\sum_{i=1}^{10} i - \\sum_{i=1}^{10} x \\right) \\\\\n",
    "\t\t\t&= -2 \\left( \\dfrac{10 \\times (1 + 10)}{2} - 10x \\right) \\\\\n",
    "\t\t\t&= -2 \\left( 55 - 10x \\right) \\\\\n",
    "\\end{align*}\n",
    "\t\t\t\n",
    "We then set the derivative equal to zero and solve for $x$.\n",
    "\t\t\n",
    "$$ 0 = -2 \\left( 55 - 10x \\right) \\implies x = 5.5 $$\n",
    "\t\t\n",
    "Make sure the second derivative is positive (shows that the curve is convex) to verify that this is indeed a minimum:\n",
    "\t\t\n",
    "$$ \\dfrac{\\mathrm{d}}{\\mathrm{d}x} {-2} \\left( 55 - 10x \\right) = 20 > 0 $$"
   ]
  },
  {
   "cell_type": "markdown",
   "metadata": {
    "deletable": false,
    "editable": false,
    "nbgrader": {
     "grade": false,
     "grade_id": "question-4e",
     "locked": true,
     "schema_version": 2,
     "solution": false
    }
   },
   "source": [
    "#### Question 4c\n",
    "Let $\\sigma(x) = \\dfrac{1}{1+e^{-x}}$. Show that $\\sigma(-x) = 1 - \\sigma(x)$.\n",
    "\n",
    "<!--\n",
    "BEGIN QUESTION\n",
    "name: q4c\n",
    "manual: true\n",
    "points: 2\n",
    "-->\n",
    "<!-- EXPORT TO PDF -->"
   ]
  },
  {
   "cell_type": "markdown",
   "metadata": {
    "nbgrader": {
     "grade": true,
     "grade_id": "question-4e-a-answer",
     "locked": false,
     "points": 2,
     "schema_version": 2,
     "solution": true
    }
   },
   "source": [
    "**SOLUTION:**  $$\\sigma(x) = \\dfrac{1}{1+e^{-x}} = \\dfrac{e^x}{e^x+1}$$\n",
    "\t\t\t\t$$\\sigma(-x) \n",
    "\t\t\t\t= \\dfrac{e^{-x}}{e^{-x}+1}\n",
    "\t\t\t\t= \\dfrac{e^{-x} + 1 - 1}{1 + e^{-x}}\n",
    "\t\t\t\t= \\dfrac{1 + e^{-x}}{1 + e^{-x}} - \\dfrac{1}{1 + e^{-x}}\n",
    "\t\t\t\t= 1- \\sigma(x)\n",
    "$$"
   ]
  },
  {
   "cell_type": "markdown",
   "metadata": {
    "deletable": false,
    "editable": false,
    "nbgrader": {
     "grade": false,
     "grade_id": "question-4e-b",
     "locked": true,
     "schema_version": 2,
     "solution": false
    }
   },
   "source": [
    "#### Question 4d\n",
    "Show that the derivative can be written as:\n",
    "\n",
    "$$\\frac{d}{dx}\\sigma(x) = \\sigma(x)(1 - \\sigma(x))$$\n",
    "\n",
    "<!--\n",
    "BEGIN QUESTION\n",
    "name: q4d\n",
    "manual: true\n",
    "points: 2\n",
    "-->\n",
    "<!-- EXPORT TO PDF -->"
   ]
  },
  {
   "cell_type": "markdown",
   "metadata": {
    "nbgrader": {
     "grade": true,
     "grade_id": "question-4e-b-answer",
     "locked": false,
     "points": 2,
     "schema_version": 2,
     "solution": true
    }
   },
   "source": [
    "**SOLUTION:** \n",
    "$$\\sigma(x) = \\dfrac{1}{1 + e^{-x}} \\implies \\sigma(x)(1 + e^{-x}) = 1$$ \n",
    "\t\t\t\t\n",
    "Taking the derivative with respect to $x$ on both sides yields: \n",
    "$$\n",
    "\t\t\t\t(1 + e^{-x})\\dfrac{d}{dx}\\sigma(x) + \\sigma(x)\\dfrac{d}{dx}(1 + e^{-x}) \n",
    "\t\t\t\t= (1 + e^{-x})\\dfrac{d}{dx}\\sigma(x) + \\sigma(x)(-e^{-x}) \n",
    "\t\t\t\t= 0 \n",
    "$$\n",
    "Solving for $\\dfrac{d}{dx}\\sigma(x)$:\n",
    "\\begin{align*}\n",
    "\t\t\t\t\\dfrac{d}{dx}\\sigma(x)\n",
    "\t\t\t\t&= \\sigma(x)\\dfrac{e^{-x}}{1 + e^{-x}} \\\\\n",
    "\t\t\t\t&= \\sigma(x)\\sigma(-x) \\\\\n",
    "\t\t\t\t&= \\sigma(x)(1- \\sigma(x))\n",
    "\t\t\t\t\\end{align*} "
   ]
  },
  {
   "cell_type": "markdown",
   "metadata": {
    "deletable": false,
    "editable": false,
    "nbgrader": {
     "grade": false,
     "grade_id": "question-4f",
     "locked": true,
     "schema_version": 2,
     "solution": false
    }
   },
   "source": [
    "#### Question 4e\n",
    "Write code to plot the function $f(x) = x^2$, the equation of the tangent line passing through $x=8$, and the equation of the tangent line passing through $x=0$.\n",
    "\n",
    "Set the range of the x-axis to (-15, 15) and the range of the y axis to (-100, 300) and the figure size to (4,4).\n",
    "\n",
    "Your resulting plot should look like this:\n",
    "\n",
    "<img src=\"derivative.png\" align=\"center\"/>\n",
    "\n",
    "You should use the `plt.plot` function to plot lines. You may find the following functions useful:\n",
    "\n",
    "- [`plt.plot(..)`](https://matplotlib.org/api/_as_gen/matplotlib.pyplot.plot.html)\n",
    "- [`plt.figure(figsize=..)`](https://stackoverflow.com/questions/332289/how-do-you-change-the-size-of-figures-drawn-with-matplotlib)\n",
    "- [`plt.ylim(..)`](https://matplotlib.org/api/_as_gen/matplotlib.pyplot.ylim.html)\n",
    "- [`plt.axhline(..)`](https://matplotlib.org/api/_as_gen/matplotlib.pyplot.hlines.html)\n",
    "\n",
    "<!--\n",
    "BEGIN QUESTION\n",
    "name: q4e\n",
    "manual: true\n",
    "points: 2\n",
    "-->\n",
    "<!-- EXPORT TO PDF -->"
   ]
  },
  {
   "cell_type": "code",
   "execution_count": 23,
   "metadata": {
    "nbgrader": {
     "grade": true,
     "grade_id": "question-4f-code",
     "locked": false,
     "points": 2,
     "schema_version": 2,
     "solution": true
    }
   },
   "outputs": [],
   "source": [
    "def f(x):\n",
    "    return x**2 # SOLUTION\n",
    "    \n",
    "def df(x):\n",
    "    return 2*x # SOLUTION\n",
    "\n",
    "def plot(f, df):\n",
    "    # BEGIN SOLUTION\n",
    "    x = np.linspace(-15, 15, 100)\n",
    "\n",
    "    plt.figure(figsize=(4, 4))\n",
    "    plt.plot(x, f(x))\n",
    "    plt.plot(x, np.zeros(x.shape[0]))\n",
    "    plt.plot(x, df(8) * (x-8) + f(8))\n",
    "    plt.xlim(-15, 15)\n",
    "    plt.ylim(-100,300)\n",
    "    plt.show()\n",
    "    # END SOLUTION\n",
    "\n",
    "plot(f, df)"
   ]
  },
  {
   "cell_type": "markdown",
   "metadata": {
    "deletable": false,
    "editable": false,
    "nbgrader": {
     "grade": false,
     "grade_id": "question-4h",
     "locked": true,
     "schema_version": 2,
     "solution": false
    }
   },
   "source": [
    "### Question 5\n",
    "\n",
    "Consider the following scenario:\n",
    "\n",
    "Only $1\\%$ of 40-year-old women who participate in a routine mammography test have breast cancer. $80\\%$ of women who have breast cancer will test positive, but $9.6\\%$ of women who don’t have breast cancer will also get positive tests. \n",
    "\n",
    "Suppose we know that a woman of this age tested positive in a routine screening. What is the probability that she actually has breast cancer?\n",
    "\n",
    "**Hint:** Use Bayes' rule.\n",
    "\n",
    "<!--\n",
    "BEGIN QUESTION\n",
    "name: q5\n",
    "manual: true\n",
    "points: 2\n",
    "-->\n",
    "<!-- EXPORT TO PDF -->"
   ]
  },
  {
   "cell_type": "markdown",
   "metadata": {
    "nbgrader": {
     "grade": true,
     "grade_id": "question-4h-answer",
     "locked": false,
     "points": 2,
     "schema_version": 2,
     "solution": true
    }
   },
   "source": [
    "**SOLUTION:** Again, we want to know what percentage of women with positive tests actually have breast cancer.\n",
    "\n",
    "We can directly apply Bayes' rule:\n",
    "\n",
    "$$ P(\\text{Has Cancer} \\; \\vert \\; \\text{Tested Positive}) = \\dfrac{P(\\text{Tested Positive} \\; \\vert \\; \\text{Has Cancer}) \\times P(\\text{Has Cancer})}\n",
    "{P(\\text{Tested Positive})} $$\n",
    "\n",
    "We'll split the denominator into two mutually exclusive cases: a) testing positive with cancer and b) testing positive with no cancer.  Then we'll use some basic probability rules to calculate the probabilities we need.\n",
    "\n",
    "$$\n",
    "\\begin{aligned}\n",
    "P(\\text{Tested Positive}) &= P(\\text{Tested Positive AND Cancer}) + P(\\text{Tested Positive AND No Cancer}) \\\\\n",
    "&= P(\\text{Tested Positive} \\; \\vert \\; \\text{Cancer}) \\times P(\\text{Cancer}) \\\\\n",
    "& \\quad + P(\\text{Tested Positive} \\; \\vert \\; \\text{No Cancer}) \\times P(\\text{No Cancer}) \\\\\n",
    "&= P(\\text{Tested Positive} \\; \\vert \\; \\text{Cancer}) \\times P(\\text{Cancer}) \\\\\n",
    "& \\quad +P(\\text{Tested Positive} \\; \\vert \\; \\text{No Cancer}) \\times (1 - P(\\text{Cancer}))\n",
    "\\end{aligned}\n",
    "$$\n",
    "\n",
    "So ultimately we have the form:\n",
    "\n",
    "$$ P(\\text{Has Cancer} \\; \\vert \\; \\text{Tested Positive}) = \\dfrac{P(\\text{Tested Positive} \\; \\vert \\; \\text{Has Cancer}) \\times P(\\text{Has Cancer})}\n",
    "{P(\\text{Tested Positive} \\; \\vert \\; \\text{Cancer}) \\times P(\\text{Cancer}) + P(\\text{Tested Positive} \\; \\vert \\; \\text{No Cancer}) \\times (1 - P(\\text{Cancer}))} $$\n",
    "\n",
    "Into which we can plug in the values to get our answer:\n",
    "\n",
    "$$ P(\\text{Has Cancer} \\; \\vert \\; \\text{Tested Positive}) = \\dfrac{0.80 \\times 0.01}\n",
    "{0.80 \\times 0.01 + 0.096 \\times (1 - 0.01)} \\approx 0.078$$\n",
    "\n",
    "So the patient has a $7.8\\%$ chance of having cancer."
   ]
  },
  {
   "cell_type": "markdown",
   "metadata": {},
   "source": [
    "---\n",
    "## Plotting\n",
    "\n",
    "The following questions will allow you to gain more practice with the plotting library `matplotlib`.\n",
    "\n",
    "Suppose we want to visualize the function $g(t) = a \\cdot \\sin(2 \\pi f t)$ while varying the values $f, a$. \n",
    "\n",
    "![2by2](sine_waves.png)"
   ]
  },
  {
   "cell_type": "markdown",
   "metadata": {
    "deletable": false,
    "editable": false
   },
   "source": [
    "### Question 6\n",
    "Generate a 2 by 2 plot that plots the function $g(t)$ as a line plot with values $f = 2, 8$ and $a = 2, 8$. Since there are 2 values of $f$ and 2 values of $a$ there are a total of 4 combinations, hence a 2 by 2 plot. The rows should vary in $a$ and the columns should vary in $f$.\n",
    "\n",
    "Set the x limit of all figures to $[0, \\pi]$ and the y limit to $[-10, 10]$. The figure size should be 8 by 8. Make sure to label your x and y axes with the appropriate value of $f$ or $a$. Additionally, make sure the x ticks are labeled $[0, \\frac{\\pi}{2}, \\pi]$. Your overall plot should look something like the one above.\n",
    "\n",
    "Hint 1: Modularize your code and use loops.\n",
    "\n",
    "Hint 2: Are your plots too close together such that the labels are overlapping with other plots? Look at the [`plt.subplots_adjust`](https://matplotlib.org/api/_as_gen/matplotlib.pyplot.subplots_adjust.html) function.\n",
    "\n",
    "Hint 3: Having trouble setting the x-axis ticks and ticklabels? Look at the [`plt.xticks`](https://matplotlib.org/api/_as_gen/matplotlib.pyplot.xticks.html) function.\n",
    "\n",
    "Hint 4: You can add title to overall plot with `plt.suptitle`.\n",
    "\n",
    "<!--\n",
    "BEGIN QUESTION\n",
    "name: q6\n",
    "manual: true\n",
    "points: 4\n",
    "-->\n",
    "<!-- EXPORT TO PDF -->"
   ]
  },
  {
   "cell_type": "code",
   "execution_count": 24,
   "metadata": {
    "ExecuteTime": {
     "end_time": "2019-01-18T17:34:33.250734Z",
     "start_time": "2019-01-18T17:34:32.011926Z"
    }
   },
   "outputs": [],
   "source": [
    "# BEGIN SOLUTION\n",
    "def g(t):\n",
    "    return a * np.sin(2 * np.pi * f * t)\n",
    "\n",
    "f_values = [2, 8]\n",
    "a_values = [2, 8]\n",
    "t = np.linspace(0, np.pi, 1000)\n",
    "\n",
    "plt.figure(figsize=(8, 8))\n",
    "plt.subplots_adjust(wspace=0.5, hspace=0.5)\n",
    "plt.suptitle(\"Sine waves with varying a=[2,8], f=[2,8]\")\n",
    "subplot_index = 1\n",
    "for f in f_values:\n",
    "    for a in a_values:\n",
    "        plt.subplot(2, 2, subplot_index)\n",
    "        plt.axis([0, np.pi, -10, 10])\n",
    "        plt.plot(t, g(t))\n",
    "        plt.ylabel(\"f: {}\".format(f))\n",
    "        plt.xlabel(\"a: {}\".format(a))\n",
    "        plt.xticks([0, np.pi/2, np.pi], [r'$0$', r'$\\pi/2$', r'$\\pi$'])\n",
    "        subplot_index += 1\n",
    "# END SOLUTION"
   ]
  },
  {
   "cell_type": "markdown",
   "metadata": {
    "ExecuteTime": {
     "end_time": "2019-01-18T17:34:20.300785Z",
     "start_time": "2019-01-18T17:34:20.295232Z"
    },
    "deletable": false,
    "editable": false
   },
   "source": [
    "### Question 7\n",
    "We should also familiarize ourselves with looking up documentation and learning how to read it. Below is a section of code that plots a basic wireframe. Replace each `# Your answer here` with a description of what the line above does, what the arguments being passed in are, and how the arguments are used in the function. For example,\n",
    "\n",
    "```\n",
    "np.arange(2, 5, 0.2)\n",
    "# This returns an array of numbers from 2 to 5 with an interval size of 0.2\n",
    "```\n",
    "\n",
    "**Hint:** The `Shift` + `Tab` tip from earlier in the notebook may help here. Remember that objects must be defined in order for the documentation shortcut to work; for example, all of the documentation will show for method calls from `np` since we've already executed `import numpy as np`. However, since `z` is not yet defined in the kernel, `z.reshape()` will not show documentation until you run the line `z = np.cos(squared)`.\n",
    "\n",
    "<!--\n",
    "BEGIN QUESTION\n",
    "name: q7\n",
    "manual: true\n",
    "points: 2\n",
    "-->\n",
    "<!-- EXPORT TO PDF -->"
   ]
  },
  {
   "cell_type": "code",
   "execution_count": 3,
   "metadata": {
    "ExecuteTime": {
     "end_time": "2019-01-18T17:34:33.697258Z",
     "start_time": "2019-01-18T17:34:33.255290Z"
    }
   },
   "outputs": [
    {
     "data": {
      "image/png": "[encoded data removed]",
      "text/plain": [
       "<Figure size 432x288 with 1 Axes>"
      ]
     },
     "metadata": {
      "needs_background": "light"
     },
     "output_type": "display_data"
    }
   ],
   "source": [
    "from mpl_toolkits.mplot3d import axes3d\n",
    "\n",
    "u = np.linspace(1.5*np.pi, -1.5*np.pi, 100)\n",
    "# Your answer here\n",
    "[x,y] = np.meshgrid(u, u)\n",
    "# Your answer here\n",
    "squared = np.sqrt(x.flatten()**2 + y.flatten()**2)\n",
    "z = np.cos(squared)\n",
    "# Your answer here\n",
    "z = z.reshape(x.shape)\n",
    "# Your answer here\n",
    "\n",
    "fig = plt.figure()\n",
    "ax = fig.add_subplot(111, projection='3d')\n",
    "# Your answer here\n",
    "ax.plot_wireframe(x, y, z, rstride=10, cstride=10)\n",
    "# Your answer here\n",
    "ax.view_init(elev=50., azim=30)\n",
    "# Your answer here\n",
    "plt.savefig(\"figure1.png\")\n",
    "# Your answer here"
   ]
  },
  {
   "cell_type": "markdown",
   "metadata": {
    "deletable": false,
    "editable": false
   },
   "source": [
    "### Question 8\n",
    "\n",
    "For a data-driven question of your choice, describe your approach and thought process in addressing this question. Outline what a sensible workflow might look like, including framing the question and identifying relevant data. Also consider transversal issues such as ethics and governance with respect to your question.\n",
    "\n",
    "This question is about data-driven reasoning; you should focus more on *what* to do, than on *how* do to it exactly.\n",
    "You may use any of the questions presented in the first lecture, excluding the real estate, crowd size, and COMPAS questions. A complete response should contain about 250 words.\n",
    "\n",
    "<!--\n",
    "BEGIN QUESTION\n",
    "name: q8\n",
    "manual: true\n",
    "points: 4\n",
    "-->\n",
    "<!-- EXPORT TO PDF -->"
   ]
  },
  {
   "cell_type": "markdown",
   "metadata": {},
   "source": [
    "**SOLUTION:**"
   ]
  },
  {
   "cell_type": "code",
   "execution_count": null,
   "metadata": {
    "deletable": false,
    "editable": false
   },
   "outputs": [],
   "source": [
    "# Save your notebook first, then run this cell to submit.\n",
    "import jassign.to_pdf\n",
    "jassign.to_pdf.generate_pdf('hw1.ipynb', 'hw1.pdf')\n",
    "ok.submit()"
   ]
  }
 ],
 "metadata": {
  "celltoolbar": "Create Assignment",
  "kernelspec": {
   "display_name": "Python 3",
   "language": "python",
   "name": "python3"
  },
  "language_info": {
   "codemirror_mode": {
    "name": "ipython",
    "version": 3
   },
   "file_extension": ".py",
   "mimetype": "text/x-python",
   "name": "python",
   "nbconvert_exporter": "python",
   "pygments_lexer": "ipython3",
   "version": "3.7.1"
  },
  "toc": {
   "colors": {
    "hover_highlight": "#DAA520",
    "running_highlight": "#FF0000",
    "selected_highlight": "#FFD700"
   },
   "moveMenuLeft": true,
   "nav_menu": {
    "height": "512px",
    "width": "252px"
   },
   "navigate_menu": true,
   "number_sections": true,
   "sideBar": true,
   "threshold": 4,
   "toc_cell": true,
   "toc_section_display": "none",
   "toc_window_display": true
  }
 },
 "nbformat": 4,
 "nbformat_minor": 2
}
