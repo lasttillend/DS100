{
 "cells": [
  {
   "cell_type": "code",
   "execution_count": 1,
   "metadata": {},
   "outputs": [],
   "source": [
    "import numpy as np\n",
    "import pandas as pd\n",
    "import matplotlib.pyplot as plt\n",
    "import seaborn as sns\n",
    "%matplotlib inline\n",
    "\n",
    "plt.rcParams['figure.figsize'] = (4, 4)\n",
    "plt.rcParams['figure.dpi'] = 150\n",
    "plt.rcParams['lines.linewidth'] = 3\n",
    "sns.set()"
   ]
  },
  {
   "cell_type": "markdown",
   "metadata": {},
   "source": [
    "## Classification"
   ]
  },
  {
   "cell_type": "markdown",
   "metadata": {},
   "source": [
    "### Logistic regression summary\n",
    "\n",
    "The logistic or sigmoid function can be written two equivalent ways:\n",
    "\n",
    "$$\\sigma(t) = \\frac{1}{1 + \\exp(-t)} = \\frac{\\exp(t)}{1 + \\exp(t)} $$\n",
    "\n",
    "The logistic regression model assumes the following probabilities of $Y \\in \\{0, 1\\}$ given column vector $X$:\n",
    "\n",
    "\\begin{align*}\n",
    "P(Y=1|X) &= \\sigma(X^T \\beta) &&= \\frac{1}{1 + \\exp(-X^T \\beta)} &= \\frac{\\exp(X^T\\beta)}{1 + \\exp(X^T\\beta)} \\\\[10pt]\n",
    "P(Y=0|X) &= \\sigma(-X^T \\beta) &&= \\frac{1}{1 + \\exp(X^T \\beta)}  \\\\\n",
    "\\end{align*}\n",
    "\n",
    "The loss most typically used to fit $\\beta$ is the log loss or cross-entropy loss, which is the negative log probability of the correct (observed) $Y$ value. This loss for true $Y \\in \\{0, 1\\}$ and predicted probability $\\hat Y \\in [0, 1]$ is often written:\n",
    "\n",
    "$$-Y \\log(\\hat Y) - (1-Y)\\log(1- \\hat Y)$$"
   ]
  },
  {
   "cell_type": "code",
   "execution_count": 40,
   "metadata": {},
   "outputs": [],
   "source": [
    "def sigma(t):\n",
    "    \"\"\"The logistic or sigmoid function, denoted σ(t).\n",
    "    \n",
    "    Note: This is actually a special case of what is generally \n",
    "          named the \"logistic\" function,\n",
    "          which allows for a different numerator and offset, \n",
    "          but lots of people call this the logistic function in practice.\n",
    "    \"\"\"\n",
    "    return 1 / (1 + np.exp(-t))\n",
    "\n",
    "def prediction(x, beta):\n",
    "    \"\"\"Prediction under the logistic model for features x and parameters b.\"\"\"\n",
    "    return sigma(x @ beta)\n",
    "\n",
    "def squared_loss(y, y_hat):\n",
    "    \"\"\"Squared loss applies to any true y and predicted y_hat.\"\"\"\n",
    "    return (y - y_hat) ** 2\n",
    "\n",
    "def log_loss(y, y_hat):\n",
    "    \"\"\"Log loss or cross-entropy loss, assuming y is in [0, 1].\"\"\"\n",
    "    assert y in [0, 1]\n",
    "    return -y * np.log(y_hat) - (1-y) * np.log(1-y_hat)\n",
    "\n",
    "def empirical_risk(true_ys, predicted_ys, loss):\n",
    "    \"\"\"The empirical risk is the average loss for a sample.\"\"\"\n",
    "    losses = [loss(y, y_hat) for y, y_hat in zip(true_ys, predicted_ys)]\n",
    "    return np.average(losses)"
   ]
  },
  {
   "cell_type": "markdown",
   "metadata": {},
   "source": [
    "### Empirical Risk\n",
    "\n",
    "Filling in $\\hat Y = P(Y=1|X)$ and filling in the form of the model, we find different ways of expressing the same loss:\n",
    "\n",
    "\\begin{align*}\n",
    "L(\\beta) &= -Y \\log(\\hat Y) - (1-Y)\\log(1- \\hat Y) \\\\[10pt]\n",
    "         &= - Y \\log P(Y=1|X) - (1-Y) \\log P(Y=0|X)  \\\\[10pt]\n",
    "         &= - Y \\log \\frac{\\exp(X^T\\beta)}{1 + \\exp(X^T\\beta)} - (1-Y) \\log \\frac{1}{1 + \\exp(X^T\\beta)}  \\\\[10pt]\n",
    "         &= - Y (\\log(\\exp(X^T\\beta)) - \\log(1 + \\exp(X^T\\beta))) - (1-Y) (-\\log (1 + \\exp(X^T\\beta)))  \\\\[10pt]\n",
    "         &= - YX^T\\beta + Y \\log(1 + \\exp(X^T\\beta))) - Y \\log(1 + \\exp(X^T\\beta))) + \\log (1 + \\exp(X^T\\beta))  \\\\[10pt]\n",
    "         &= - YX^T\\beta + \\log (1 + \\exp(X^T\\beta)) \\\\[10pt]\n",
    "         &= -\\left(YX^T\\beta + \\log \\sigma(-X^T\\beta)\\right)\n",
    "\\end{align*}\n",
    "\n",
    "Where the last step follows from $\\log (1 + \\exp(X^T\\beta)) = -(- \\log (1 + \\exp(X^T\\beta))) = -\\log \\frac{1}{1 + \\exp(X^T\\beta)} = -\\log \\sigma(-X^T\\beta)$.\n",
    "\n",
    "The empirical risk (average loss across a sample) for a set of observations $(x_1, y_1) \\dots (x_n, y_n)$ is often written:\n",
    "\n",
    "$$R(\\beta, x, y) = - \\frac{1}{n} \\sum_{i=1}^n \\left[ y_i x_i^T\\beta + \\log \\sigma(-x_i^T\\beta) \\right]$$"
   ]
  },
  {
   "cell_type": "markdown",
   "metadata": {},
   "source": [
    "### Logistic Regression Gradient\n",
    "\n",
    "Using thelogistic regression model and log loss, find the gradient of the empirical risk.\n",
    "\n",
    "First, we compute the derivative of the sigmoid function since we'll use it in our gradient calculation.\n",
    "\n",
    "$$\n",
    "\\begin{aligned}\n",
    "\\sigma(t) &= \\frac{1}{1 + e^{-t}} \\\\[10pt]\n",
    "\\sigma'(t) &= \\frac{e^{-t}}{(1 + e^{-t})^2} \\\\[10pt]\n",
    "\\sigma'(t) &= \\frac{1}{1 + e^{-t}} \\cdot \\left(1 - \\frac{1}{1 + e^{-t}} \\right) \\\\[10pt]\n",
    "\\sigma'(t) &= \\sigma(t) (1 - \\sigma(t))\n",
    "\\end{aligned}\n",
    "$$"
   ]
  },
  {
   "cell_type": "markdown",
   "metadata": {},
   "source": [
    "As a shorthand, we define $ \\sigma_i = \\sigma(-x_i^T \\beta) $. We will soon need the gradient of $ \\sigma_i $ with respect to the vector $ \\beta $ so we will derive it now using the chain rule. \n",
    "\n",
    "\\begin{align*}\n",
    "\\nabla_{\\beta} \\sigma_i\n",
    "&= \\nabla_{\\beta} \\sigma(-x_i^T \\beta) \\\\[10pt]\n",
    "&= \\sigma\\left(-x_i^T \\beta\\right) \\left(1 - \\sigma(-x_i^T \\beta)\\right)  \\nabla_{\\beta} \\left(-x_i^T \\beta\\right) \\\\[10pt]\n",
    "&= -\\sigma_i (1 - \\sigma_i) x_i \n",
    "\\end{align*}"
   ]
  },
  {
   "cell_type": "markdown",
   "metadata": {},
   "source": [
    "Now, we derive the gradient of the cross-entropy loss with respect to the model parameters $ \\boldsymbol{\\beta} $. We use the fact that $(1-\\sigma_i) = \\sigma(x_i^T\\beta)$, since $\\sigma(x^T\\beta) + \\sigma(-x^T\\beta) = 1$.\n",
    "\n",
    "\\begin{align*}\n",
    "R(\\beta, x, y) &= - \\frac{1}{n}\\sum_{i=1}^n \\left[ y_i x_i^T\\beta + \\log \\sigma_i \\right] \\\\[10pt]\n",
    "\\nabla_{\\beta} R(\\beta, x, y) &= - \\frac{1}{n}\\sum_{i=1}^n \\left( y_i x_i - \\frac{1}{\\sigma_i} \\sigma_i (1 - \\sigma_i) x_i \\right) \\\\[10pt]\n",
    "                              &= - \\frac{1}{n}\\sum_{i=1}^n \\left( y_i x_i - \\sigma(x_i^T\\beta) x_i \\right) \\\\[10pt]\n",
    "                              &= - \\frac{1}{n}\\sum_{i=1}^n \\left(y_i - \\sigma(x_i^T\\beta)\\right) x_i  \\\\[10pt]\n",
    "\\end{align*}"
   ]
  },
  {
   "cell_type": "code",
   "execution_count": 52,
   "metadata": {},
   "outputs": [],
   "source": [
    "def gradient_descent(x, y, beta0, gradient_function, max_iter=50000,  \n",
    "                     epsilon=1e-8, lr=0.1, clip=1):\n",
    "    \"\"\"Run gradient descent on a dataset (x, y) \n",
    "    with gradient clipping and learning rate decay.\"\"\"\n",
    "    beta = beta0\n",
    "    for t in range(1, max_iter):\n",
    "        grad = gradient_function(beta, x, y)\n",
    "        beta = beta - (lr/(1 + t/100)) * np.clip(grad, -clip, clip) \n",
    "        # Detect approximate convergence: small gradient\n",
    "        if np.linalg.norm(grad) < epsilon:\n",
    "            return beta\n",
    "    return beta\n",
    "\n",
    "def risk_gradient(beta, x, y):\n",
    "    \"\"\"Risk gradient for a whole dataset at once.\"\"\"\n",
    "    n = x.shape[0]\n",
    "#     print(\"n:\",n)\n",
    "    return -(1/n) * x @ (y - sigma(x.T @ beta)) \n",
    "\n",
    "def logistic_regression(x, y):\n",
    "    \"\"\"Train a logistic regression classifier using gradient descent.\"\"\"\n",
    "    beta0 = np.zeros(x.shape[0])\n",
    "    beta = gradient_descent(x, y, beta0, risk_gradient)\n",
    "    return beta    "
   ]
  },
  {
   "cell_type": "markdown",
   "metadata": {},
   "source": [
    "### Applying logistic regression"
   ]
  },
  {
   "cell_type": "code",
   "execution_count": 16,
   "metadata": {},
   "outputs": [
    {
     "data": {
      "text/plain": [
       "mean radius                  17.990000\n",
       "mean texture                 10.380000\n",
       "mean perimeter              122.800000\n",
       "mean area                  1001.000000\n",
       "mean smoothness               0.118400\n",
       "mean compactness              0.277600\n",
       "mean concavity                0.300100\n",
       "mean concave points           0.147100\n",
       "mean symmetry                 0.241900\n",
       "mean fractal dimension        0.078710\n",
       "radius error                  1.095000\n",
       "texture error                 0.905300\n",
       "perimeter error               8.589000\n",
       "area error                  153.400000\n",
       "smoothness error              0.006399\n",
       "compactness error             0.049040\n",
       "concavity error               0.053730\n",
       "concave points error          0.015870\n",
       "symmetry error                0.030030\n",
       "fractal dimension error       0.006193\n",
       "worst radius                 25.380000\n",
       "worst texture                17.330000\n",
       "worst perimeter             184.600000\n",
       "worst area                 2019.000000\n",
       "worst smoothness              0.162200\n",
       "worst compactness             0.665600\n",
       "worst concavity               0.711900\n",
       "worst concave points          0.265400\n",
       "worst symmetry                0.460100\n",
       "worst fractal dimension       0.118900\n",
       "bias                          1.000000\n",
       "malignant                     1.000000\n",
       "Name: 0, dtype: float64"
      ]
     },
     "execution_count": 16,
     "metadata": {},
     "output_type": "execute_result"
    }
   ],
   "source": [
    "import sklearn.datasets\n",
    "data_dict = sklearn.datasets.load_breast_cancer()\n",
    "cancer = pd.DataFrame(data_dict['data'], columns=data_dict['feature_names'])\n",
    "cancer['bias'] = 1.0\n",
    "# Target data_dict['target'] = 0 is malignant; 1 is benign\n",
    "cancer['malignant'] = 1 - data_dict['target']\n",
    "cancer.iloc[0]"
   ]
  },
  {
   "cell_type": "code",
   "execution_count": 5,
   "metadata": {},
   "outputs": [
    {
     "data": {
      "text/html": [
       "<div>\n",
       "<style scoped>\n",
       "    .dataframe tbody tr th:only-of-type {\n",
       "        vertical-align: middle;\n",
       "    }\n",
       "\n",
       "    .dataframe tbody tr th {\n",
       "        vertical-align: top;\n",
       "    }\n",
       "\n",
       "    .dataframe thead th {\n",
       "        text-align: right;\n",
       "    }\n",
       "</style>\n",
       "<table border=\"1\" class=\"dataframe\">\n",
       "  <thead>\n",
       "    <tr style=\"text-align: right;\">\n",
       "      <th></th>\n",
       "      <th>mean radius</th>\n",
       "      <th>mean texture</th>\n",
       "      <th>mean perimeter</th>\n",
       "      <th>mean area</th>\n",
       "      <th>mean smoothness</th>\n",
       "      <th>mean compactness</th>\n",
       "      <th>mean concavity</th>\n",
       "      <th>mean concave points</th>\n",
       "      <th>mean symmetry</th>\n",
       "      <th>mean fractal dimension</th>\n",
       "      <th>...</th>\n",
       "      <th>worst perimeter</th>\n",
       "      <th>worst area</th>\n",
       "      <th>worst smoothness</th>\n",
       "      <th>worst compactness</th>\n",
       "      <th>worst concavity</th>\n",
       "      <th>worst concave points</th>\n",
       "      <th>worst symmetry</th>\n",
       "      <th>worst fractal dimension</th>\n",
       "      <th>bias</th>\n",
       "      <th>malignant</th>\n",
       "    </tr>\n",
       "  </thead>\n",
       "  <tbody>\n",
       "    <tr>\n",
       "      <th>count</th>\n",
       "      <td>569.000000</td>\n",
       "      <td>569.000000</td>\n",
       "      <td>569.000000</td>\n",
       "      <td>569.000000</td>\n",
       "      <td>569.000000</td>\n",
       "      <td>569.000000</td>\n",
       "      <td>569.000000</td>\n",
       "      <td>569.000000</td>\n",
       "      <td>569.000000</td>\n",
       "      <td>569.000000</td>\n",
       "      <td>...</td>\n",
       "      <td>569.000000</td>\n",
       "      <td>569.000000</td>\n",
       "      <td>569.000000</td>\n",
       "      <td>569.000000</td>\n",
       "      <td>569.000000</td>\n",
       "      <td>569.000000</td>\n",
       "      <td>569.000000</td>\n",
       "      <td>569.000000</td>\n",
       "      <td>569.0</td>\n",
       "      <td>569.000000</td>\n",
       "    </tr>\n",
       "    <tr>\n",
       "      <th>mean</th>\n",
       "      <td>14.127292</td>\n",
       "      <td>19.289649</td>\n",
       "      <td>91.969033</td>\n",
       "      <td>654.889104</td>\n",
       "      <td>0.096360</td>\n",
       "      <td>0.104341</td>\n",
       "      <td>0.088799</td>\n",
       "      <td>0.048919</td>\n",
       "      <td>0.181162</td>\n",
       "      <td>0.062798</td>\n",
       "      <td>...</td>\n",
       "      <td>107.261213</td>\n",
       "      <td>880.583128</td>\n",
       "      <td>0.132369</td>\n",
       "      <td>0.254265</td>\n",
       "      <td>0.272188</td>\n",
       "      <td>0.114606</td>\n",
       "      <td>0.290076</td>\n",
       "      <td>0.083946</td>\n",
       "      <td>1.0</td>\n",
       "      <td>0.372583</td>\n",
       "    </tr>\n",
       "    <tr>\n",
       "      <th>std</th>\n",
       "      <td>3.524049</td>\n",
       "      <td>4.301036</td>\n",
       "      <td>24.298981</td>\n",
       "      <td>351.914129</td>\n",
       "      <td>0.014064</td>\n",
       "      <td>0.052813</td>\n",
       "      <td>0.079720</td>\n",
       "      <td>0.038803</td>\n",
       "      <td>0.027414</td>\n",
       "      <td>0.007060</td>\n",
       "      <td>...</td>\n",
       "      <td>33.602542</td>\n",
       "      <td>569.356993</td>\n",
       "      <td>0.022832</td>\n",
       "      <td>0.157336</td>\n",
       "      <td>0.208624</td>\n",
       "      <td>0.065732</td>\n",
       "      <td>0.061867</td>\n",
       "      <td>0.018061</td>\n",
       "      <td>0.0</td>\n",
       "      <td>0.483918</td>\n",
       "    </tr>\n",
       "    <tr>\n",
       "      <th>min</th>\n",
       "      <td>6.981000</td>\n",
       "      <td>9.710000</td>\n",
       "      <td>43.790000</td>\n",
       "      <td>143.500000</td>\n",
       "      <td>0.052630</td>\n",
       "      <td>0.019380</td>\n",
       "      <td>0.000000</td>\n",
       "      <td>0.000000</td>\n",
       "      <td>0.106000</td>\n",
       "      <td>0.049960</td>\n",
       "      <td>...</td>\n",
       "      <td>50.410000</td>\n",
       "      <td>185.200000</td>\n",
       "      <td>0.071170</td>\n",
       "      <td>0.027290</td>\n",
       "      <td>0.000000</td>\n",
       "      <td>0.000000</td>\n",
       "      <td>0.156500</td>\n",
       "      <td>0.055040</td>\n",
       "      <td>1.0</td>\n",
       "      <td>0.000000</td>\n",
       "    </tr>\n",
       "    <tr>\n",
       "      <th>25%</th>\n",
       "      <td>11.700000</td>\n",
       "      <td>16.170000</td>\n",
       "      <td>75.170000</td>\n",
       "      <td>420.300000</td>\n",
       "      <td>0.086370</td>\n",
       "      <td>0.064920</td>\n",
       "      <td>0.029560</td>\n",
       "      <td>0.020310</td>\n",
       "      <td>0.161900</td>\n",
       "      <td>0.057700</td>\n",
       "      <td>...</td>\n",
       "      <td>84.110000</td>\n",
       "      <td>515.300000</td>\n",
       "      <td>0.116600</td>\n",
       "      <td>0.147200</td>\n",
       "      <td>0.114500</td>\n",
       "      <td>0.064930</td>\n",
       "      <td>0.250400</td>\n",
       "      <td>0.071460</td>\n",
       "      <td>1.0</td>\n",
       "      <td>0.000000</td>\n",
       "    </tr>\n",
       "    <tr>\n",
       "      <th>50%</th>\n",
       "      <td>13.370000</td>\n",
       "      <td>18.840000</td>\n",
       "      <td>86.240000</td>\n",
       "      <td>551.100000</td>\n",
       "      <td>0.095870</td>\n",
       "      <td>0.092630</td>\n",
       "      <td>0.061540</td>\n",
       "      <td>0.033500</td>\n",
       "      <td>0.179200</td>\n",
       "      <td>0.061540</td>\n",
       "      <td>...</td>\n",
       "      <td>97.660000</td>\n",
       "      <td>686.500000</td>\n",
       "      <td>0.131300</td>\n",
       "      <td>0.211900</td>\n",
       "      <td>0.226700</td>\n",
       "      <td>0.099930</td>\n",
       "      <td>0.282200</td>\n",
       "      <td>0.080040</td>\n",
       "      <td>1.0</td>\n",
       "      <td>0.000000</td>\n",
       "    </tr>\n",
       "    <tr>\n",
       "      <th>75%</th>\n",
       "      <td>15.780000</td>\n",
       "      <td>21.800000</td>\n",
       "      <td>104.100000</td>\n",
       "      <td>782.700000</td>\n",
       "      <td>0.105300</td>\n",
       "      <td>0.130400</td>\n",
       "      <td>0.130700</td>\n",
       "      <td>0.074000</td>\n",
       "      <td>0.195700</td>\n",
       "      <td>0.066120</td>\n",
       "      <td>...</td>\n",
       "      <td>125.400000</td>\n",
       "      <td>1084.000000</td>\n",
       "      <td>0.146000</td>\n",
       "      <td>0.339100</td>\n",
       "      <td>0.382900</td>\n",
       "      <td>0.161400</td>\n",
       "      <td>0.317900</td>\n",
       "      <td>0.092080</td>\n",
       "      <td>1.0</td>\n",
       "      <td>1.000000</td>\n",
       "    </tr>\n",
       "    <tr>\n",
       "      <th>max</th>\n",
       "      <td>28.110000</td>\n",
       "      <td>39.280000</td>\n",
       "      <td>188.500000</td>\n",
       "      <td>2501.000000</td>\n",
       "      <td>0.163400</td>\n",
       "      <td>0.345400</td>\n",
       "      <td>0.426800</td>\n",
       "      <td>0.201200</td>\n",
       "      <td>0.304000</td>\n",
       "      <td>0.097440</td>\n",
       "      <td>...</td>\n",
       "      <td>251.200000</td>\n",
       "      <td>4254.000000</td>\n",
       "      <td>0.222600</td>\n",
       "      <td>1.058000</td>\n",
       "      <td>1.252000</td>\n",
       "      <td>0.291000</td>\n",
       "      <td>0.663800</td>\n",
       "      <td>0.207500</td>\n",
       "      <td>1.0</td>\n",
       "      <td>1.000000</td>\n",
       "    </tr>\n",
       "  </tbody>\n",
       "</table>\n",
       "<p>8 rows × 32 columns</p>\n",
       "</div>"
      ],
      "text/plain": [
       "       mean radius  mean texture  mean perimeter    mean area  \\\n",
       "count   569.000000    569.000000      569.000000   569.000000   \n",
       "mean     14.127292     19.289649       91.969033   654.889104   \n",
       "std       3.524049      4.301036       24.298981   351.914129   \n",
       "min       6.981000      9.710000       43.790000   143.500000   \n",
       "25%      11.700000     16.170000       75.170000   420.300000   \n",
       "50%      13.370000     18.840000       86.240000   551.100000   \n",
       "75%      15.780000     21.800000      104.100000   782.700000   \n",
       "max      28.110000     39.280000      188.500000  2501.000000   \n",
       "\n",
       "       mean smoothness  mean compactness  mean concavity  mean concave points  \\\n",
       "count       569.000000        569.000000      569.000000           569.000000   \n",
       "mean          0.096360          0.104341        0.088799             0.048919   \n",
       "std           0.014064          0.052813        0.079720             0.038803   \n",
       "min           0.052630          0.019380        0.000000             0.000000   \n",
       "25%           0.086370          0.064920        0.029560             0.020310   \n",
       "50%           0.095870          0.092630        0.061540             0.033500   \n",
       "75%           0.105300          0.130400        0.130700             0.074000   \n",
       "max           0.163400          0.345400        0.426800             0.201200   \n",
       "\n",
       "       mean symmetry  mean fractal dimension     ...      worst perimeter  \\\n",
       "count     569.000000              569.000000     ...           569.000000   \n",
       "mean        0.181162                0.062798     ...           107.261213   \n",
       "std         0.027414                0.007060     ...            33.602542   \n",
       "min         0.106000                0.049960     ...            50.410000   \n",
       "25%         0.161900                0.057700     ...            84.110000   \n",
       "50%         0.179200                0.061540     ...            97.660000   \n",
       "75%         0.195700                0.066120     ...           125.400000   \n",
       "max         0.304000                0.097440     ...           251.200000   \n",
       "\n",
       "        worst area  worst smoothness  worst compactness  worst concavity  \\\n",
       "count   569.000000        569.000000         569.000000       569.000000   \n",
       "mean    880.583128          0.132369           0.254265         0.272188   \n",
       "std     569.356993          0.022832           0.157336         0.208624   \n",
       "min     185.200000          0.071170           0.027290         0.000000   \n",
       "25%     515.300000          0.116600           0.147200         0.114500   \n",
       "50%     686.500000          0.131300           0.211900         0.226700   \n",
       "75%    1084.000000          0.146000           0.339100         0.382900   \n",
       "max    4254.000000          0.222600           1.058000         1.252000   \n",
       "\n",
       "       worst concave points  worst symmetry  worst fractal dimension   bias  \\\n",
       "count            569.000000      569.000000               569.000000  569.0   \n",
       "mean               0.114606        0.290076                 0.083946    1.0   \n",
       "std                0.065732        0.061867                 0.018061    0.0   \n",
       "min                0.000000        0.156500                 0.055040    1.0   \n",
       "25%                0.064930        0.250400                 0.071460    1.0   \n",
       "50%                0.099930        0.282200                 0.080040    1.0   \n",
       "75%                0.161400        0.317900                 0.092080    1.0   \n",
       "max                0.291000        0.663800                 0.207500    1.0   \n",
       "\n",
       "        malignant  \n",
       "count  569.000000  \n",
       "mean     0.372583  \n",
       "std      0.483918  \n",
       "min      0.000000  \n",
       "25%      0.000000  \n",
       "50%      0.000000  \n",
       "75%      1.000000  \n",
       "max      1.000000  \n",
       "\n",
       "[8 rows x 32 columns]"
      ]
     },
     "execution_count": 5,
     "metadata": {},
     "output_type": "execute_result"
    }
   ],
   "source": [
    "cancer.describe()"
   ]
  },
  {
   "cell_type": "code",
   "execution_count": 18,
   "metadata": {},
   "outputs": [
    {
     "name": "stdout",
     "output_type": "stream",
     "text": [
      "Training Data Size:  426\n",
      "Test Data Size:  143\n"
     ]
    }
   ],
   "source": [
    "from sklearn.model_selection import train_test_split\n",
    "\n",
    "train, test = train_test_split(cancer, test_size=0.25, random_state=100)\n",
    "print(\"Training Data Size: \", len(train))\n",
    "print(\"Test Data Size: \", len(test))"
   ]
  },
  {
   "cell_type": "code",
   "execution_count": 19,
   "metadata": {},
   "outputs": [
    {
     "data": {
      "image/png": "[encoded data removed]",
      "text/plain": [
       "<matplotlib.figure.Figure at 0x10cede198>"
      ]
     },
     "metadata": {},
     "output_type": "display_data"
    }
   ],
   "source": [
    "plt.scatter(train['mean radius'], train['malignant']);"
   ]
  },
  {
   "cell_type": "code",
   "execution_count": 38,
   "metadata": {},
   "outputs": [
    {
     "data": {
      "image/png": "[encoded data removed]",
      "text/plain": [
       "<matplotlib.figure.Figure at 0x1a1a271ef0>"
      ]
     },
     "metadata": {},
     "output_type": "display_data"
    }
   ],
   "source": [
    "radii = np.linspace(5, 30, 50)\n",
    "averages = [np.average(train[np.abs(train['mean radius']-r)<2]['malignant']) for r in radii]\n",
    "plt.scatter(train['mean radius'], train['malignant']);\n",
    "plt.scatter(radii, averages, color='gold');"
   ]
  },
  {
   "cell_type": "code",
   "execution_count": 36,
   "metadata": {},
   "outputs": [],
   "source": [
    "def features(t):\n",
    "    return t[['bias', 'mean radius']].values.T\n",
    "    \n",
    "x_train, y_train = features(train), train['malignant'].values"
   ]
  },
  {
   "cell_type": "code",
   "execution_count": 37,
   "metadata": {},
   "outputs": [
    {
     "data": {
      "text/plain": [
       "array([[-14.8970826 ,   1.01064211]])"
      ]
     },
     "execution_count": 37,
     "metadata": {},
     "output_type": "execute_result"
    }
   ],
   "source": [
    "from sklearn.linear_model import LogisticRegression\n",
    "model = LogisticRegression(fit_intercept=False, C=1e9, solver='lbfgs')\n",
    "model.fit(x_train.T, y_train)\n",
    "model.coef_"
   ]
  },
  {
   "cell_type": "code",
   "execution_count": 41,
   "metadata": {},
   "outputs": [
    {
     "data": {
      "image/png": "[encoded data removed]",
      "text/plain": [
       "<matplotlib.figure.Figure at 0x1a1a42d208>"
      ]
     },
     "metadata": {},
     "output_type": "display_data"
    }
   ],
   "source": [
    "plt.scatter(train['mean radius'], train['malignant']);\n",
    "plt.scatter(radii, averages, color='gold');\n",
    "plt.plot(radii, sigma(model.coef_[0,0] + radii * model.coef_[0,1]));"
   ]
  },
  {
   "cell_type": "code",
   "execution_count": null,
   "metadata": {},
   "outputs": [],
   "source": [
    "beta = logistic_regression(x_train, y_train)\n",
    "beta"
   ]
  },
  {
   "cell_type": "code",
   "execution_count": 43,
   "metadata": {},
   "outputs": [
    {
     "data": {
      "text/plain": [
       "array([ 0.00645388, -0.0004522 ])"
      ]
     },
     "execution_count": 43,
     "metadata": {},
     "output_type": "execute_result"
    }
   ],
   "source": [
    "risk_gradient(beta, x_train, y_train)"
   ]
  },
  {
   "cell_type": "code",
   "execution_count": 44,
   "metadata": {},
   "outputs": [
    {
     "name": "stdout",
     "output_type": "stream",
     "text": [
      "370/426 (86.9%)\n"
     ]
    }
   ],
   "source": [
    "def print_ratio(n, d):\n",
    "    print('{}/{} ({:.1f}%)'.format(n, d, 100 * n/d))\n",
    "\n",
    "def accuracy(x, y, beta):\n",
    "    y_hat = np.round(sigma(x.T @ beta))\n",
    "    guesses = np.round(y_hat)\n",
    "    correct = y == guesses\n",
    "    print_ratio(sum(correct), len(guesses))\n",
    "\n",
    "accuracy(x_train, y_train, beta)"
   ]
  },
  {
   "cell_type": "code",
   "execution_count": 46,
   "metadata": {},
   "outputs": [
    {
     "name": "stdout",
     "output_type": "stream",
     "text": [
      "87/143 (60.8%)\n"
     ]
    }
   ],
   "source": [
    "x_test = features(test)\n",
    "y_test = test['malignant'].values\n",
    "print_ratio(sum(1-y_test), len(y_test))"
   ]
  },
  {
   "cell_type": "code",
   "execution_count": 47,
   "metadata": {},
   "outputs": [
    {
     "name": "stdout",
     "output_type": "stream",
     "text": [
      "130/143 (90.9%)\n"
     ]
    }
   ],
   "source": [
    "accuracy(x_test, y_test, beta)"
   ]
  },
  {
   "cell_type": "code",
   "execution_count": 48,
   "metadata": {},
   "outputs": [
    {
     "name": "stdout",
     "output_type": "stream",
     "text": [
      "Train: 406/426 (95.3%)\n",
      "Test: 137/143 (95.8%)\n"
     ]
    }
   ],
   "source": [
    "def all_features(t):\n",
    "    return t.drop('malignant', axis=1).values.T\n",
    "\n",
    "def evaluate(beta, features):\n",
    "    print('Train:', end=' ')\n",
    "    accuracy(features(train), y_train, beta)\n",
    "    print('Test:', end=' ')\n",
    "    accuracy(features(test), y_test, beta)\n",
    "    \n",
    "beta = logistic_regression(all_features(train), y_train)\n",
    "evaluate(beta, all_features)"
   ]
  },
  {
   "cell_type": "markdown",
   "metadata": {},
   "source": [
    "### Regularized Logistic Regression\n",
    "\n",
    "As with linear regression, one common way of reducing the variance of the parameter estimator is to add a regularization term to the empirical risk objective. E.g.,\n",
    "\n",
    "\\begin{align*}\n",
    "R(\\beta, x, y, \\lambda) &= - \\frac{1}{n}\\sum_{i=1}^n \\left[ y_i x_i^T\\beta + \\log \\sigma(-x_i^T\\beta) \\right] + \\frac{1}{2} C \\sum_{j=1}^J \\beta_j^2 \\\\[10pt]\n",
    "\\nabla_{\\beta} R(\\beta, x, y, \\lambda) &=  - \\frac{1}{n}\\sum_{i=1}^n \\left(y_i - \\sigma(x_i^T\\beta)\\right) x_i + C \\beta \\\\[10pt]\n",
    "\\end{align*}"
   ]
  },
  {
   "cell_type": "code",
   "execution_count": 18,
   "metadata": {},
   "outputs": [
    {
     "name": "stdout",
     "output_type": "stream",
     "text": [
      "c = 0.0009765625\n",
      "sum(beta**2) =  181.05862166469308\n",
      "Train: 406/426 (95.3%)\n",
      "Test: 137/143 (95.8%)\n",
      "\n",
      "c = 0.00390625\n",
      "sum(beta**2) =  153.17656348299207\n",
      "Train: 406/426 (95.3%)\n",
      "Test: 137/143 (95.8%)\n",
      "\n",
      "c = 0.015625\n",
      "sum(beta**2) =  84.76727676186307\n",
      "Train: 401/426 (94.1%)\n",
      "Test: 139/143 (97.2%)\n",
      "\n",
      "c = 0.0625\n",
      "sum(beta**2) =  16.86808437919907\n",
      "Train: 396/426 (93.0%)\n",
      "Test: 137/143 (95.8%)\n",
      "\n",
      "c = 0.25\n",
      "sum(beta**2) =  1.159763781457247\n",
      "Train: 392/426 (92.0%)\n",
      "Test: 135/143 (94.4%)\n",
      "\n",
      "c = 1.0\n",
      "sum(beta**2) =  0.21983095016705734\n",
      "Train: 390/426 (91.5%)\n",
      "Test: 134/143 (93.7%)\n",
      "\n",
      "c = 4.0\n",
      "sum(beta**2) =  0.08526863018405177\n",
      "Train: 390/426 (91.5%)\n",
      "Test: 134/143 (93.7%)\n",
      "\n",
      "c = 16.0\n",
      "sum(beta**2) =  0.06240644243334323\n",
      "Train: 390/426 (91.5%)\n",
      "Test: 134/143 (93.7%)\n",
      "\n",
      "c = 64.0\n",
      "sum(beta**2) =  0.043885815938907356\n",
      "Train: 388/426 (91.1%)\n",
      "Test: 134/143 (93.7%)\n",
      "\n",
      "c = 256.0\n",
      "sum(beta**2) =  0.016109390288629684\n",
      "Train: 387/426 (90.8%)\n",
      "Test: 136/143 (95.1%)\n",
      "\n"
     ]
    }
   ],
   "source": [
    "def regularized_logistic_regression(x, y, c):\n",
    "    \"\"\"Train a logistic regression classifier using gradient descent.\"\"\"\n",
    "\n",
    "    def l2_regularized_gradient(beta, x, y):\n",
    "        return risk_gradient(beta, x, y) + c * beta\n",
    "\n",
    "    beta0 = np.zeros(x.shape[0])\n",
    "    beta = gradient_descent(x, y, beta0, l2_regularized_gradient)\n",
    "    return beta    \n",
    "\n",
    "def search_for_c(features):\n",
    "    for c in 2.0 ** np.arange(-10, 10, 2):\n",
    "        print(\"c =\", c)\n",
    "        beta = regularized_logistic_regression(features(train), y_train, c)\n",
    "        print(\"sum(beta**2) = \", sum(beta**2))\n",
    "        evaluate(beta, features)\n",
    "        print()\n",
    "        \n",
    "search_for_c(all_features)"
   ]
  },
  {
   "cell_type": "code",
   "execution_count": 19,
   "metadata": {},
   "outputs": [
    {
     "name": "stdout",
     "output_type": "stream",
     "text": [
      "c = 0.0009765625\n",
      "sum(beta**2) =  35.8486017048037\n",
      "Train: 423/426 (99.3%)\n",
      "Test: 138/143 (96.5%)\n",
      "\n",
      "c = 0.00390625\n",
      "sum(beta**2) =  31.318273815172542\n",
      "Train: 423/426 (99.3%)\n",
      "Test: 138/143 (96.5%)\n",
      "\n",
      "c = 0.015625\n",
      "sum(beta**2) =  20.747956964144077\n",
      "Train: 423/426 (99.3%)\n",
      "Test: 139/143 (97.2%)\n",
      "\n",
      "c = 0.0625\n",
      "sum(beta**2) =  9.935156093274612\n",
      "Train: 421/426 (98.8%)\n",
      "Test: 141/143 (98.6%)\n",
      "\n",
      "c = 0.25\n",
      "sum(beta**2) =  4.279626098449614\n",
      "Train: 419/426 (98.4%)\n",
      "Test: 141/143 (98.6%)\n",
      "\n",
      "c = 1.0\n",
      "sum(beta**2) =  1.717220435886093\n",
      "Train: 414/426 (97.2%)\n",
      "Test: 140/143 (97.9%)\n",
      "\n",
      "c = 4.0\n",
      "sum(beta**2) =  0.6094833404635616\n",
      "Train: 412/426 (96.7%)\n",
      "Test: 139/143 (97.2%)\n",
      "\n",
      "c = 16.0\n",
      "sum(beta**2) =  0.17553643009069883\n",
      "Train: 405/426 (95.1%)\n",
      "Test: 138/143 (96.5%)\n",
      "\n",
      "c = 64.0\n",
      "sum(beta**2) =  0.03500234439319296\n",
      "Train: 403/426 (94.6%)\n",
      "Test: 136/143 (95.1%)\n",
      "\n",
      "c = 256.0\n",
      "sum(beta**2) =  0.0041317425176505785\n",
      "Train: 399/426 (93.7%)\n",
      "Test: 134/143 (93.7%)\n",
      "\n"
     ]
    }
   ],
   "source": [
    "from sklearn import preprocessing\n",
    "\n",
    "def inputs(t):\n",
    "    return t.drop('malignant', axis=1).values\n",
    "\n",
    "scaler = preprocessing.StandardScaler().fit(inputs(train))\n",
    "\n",
    "def scaled_features(t):\n",
    "    return scaler.transform(inputs(t)).T\n",
    "\n",
    "search_for_c(scaled_features)"
   ]
  },
  {
   "cell_type": "code",
   "execution_count": 20,
   "metadata": {},
   "outputs": [
    {
     "name": "stdout",
     "output_type": "stream",
     "text": [
      "138/143 (96.5%)\n"
     ]
    }
   ],
   "source": [
    "model = LogisticRegression(C=4, solver='lbfgs')\n",
    "model.fit(scaled_features(train).T, y_train)\n",
    "y_hat = model.predict(scaled_features(test).T)\n",
    "print_ratio(sum(y_hat == y_test), len(y_test))"
   ]
  },
  {
   "cell_type": "markdown",
   "metadata": {},
   "source": [
    "### Multiclass classification\n",
    "\n",
    "\\begin{align*}\n",
    "P(Y=y|X) &= \\frac{\\exp(X^T\\beta_{y})}{\\sum_{z=0}^d \\exp(X^T\\beta_z)} \\\\[10pt]\n",
    "L(\\beta_0,\\dots,\\beta_d, x_i, y_i) &= - \\log \\frac{\\exp(x_i^T\\beta_{y_i})}{\\sum_{z=0}^d \\exp(x_i^T\\beta_z)} \\\\[10pt]\n",
    "\\frac{\\partial}{\\partial \\beta_w} L(\\beta_0,\\dots,\\beta_d, x_i, y_i) &= -\\left(1[w=y_i] - \\frac{\\exp(x_i^T\\beta_w)}{\\sum_{z=0}^d \\exp(x_i^T\\beta_z)}\\right) x_i  \\\\[10pt]\n",
    "1[w=y_i] &= \\begin{cases}\n",
    "1 & \\text{if}\\ w=y_i \\\\\n",
    "0 & \\text{otherwise}\n",
    "\\end{cases}\n",
    "\\end{align*}\n"
   ]
  },
  {
   "cell_type": "code",
   "execution_count": 21,
   "metadata": {},
   "outputs": [
    {
     "data": {
      "text/html": [
       "<div>\n",
       "<style scoped>\n",
       "    .dataframe tbody tr th:only-of-type {\n",
       "        vertical-align: middle;\n",
       "    }\n",
       "\n",
       "    .dataframe tbody tr th {\n",
       "        vertical-align: top;\n",
       "    }\n",
       "\n",
       "    .dataframe thead th {\n",
       "        text-align: right;\n",
       "    }\n",
       "</style>\n",
       "<table border=\"1\" class=\"dataframe\">\n",
       "  <thead>\n",
       "    <tr style=\"text-align: right;\">\n",
       "      <th></th>\n",
       "      <th>sepal length (cm)</th>\n",
       "      <th>sepal width (cm)</th>\n",
       "      <th>petal length (cm)</th>\n",
       "      <th>petal width (cm)</th>\n",
       "    </tr>\n",
       "  </thead>\n",
       "  <tbody>\n",
       "    <tr>\n",
       "      <th>count</th>\n",
       "      <td>150.000000</td>\n",
       "      <td>150.000000</td>\n",
       "      <td>150.000000</td>\n",
       "      <td>150.000000</td>\n",
       "    </tr>\n",
       "    <tr>\n",
       "      <th>mean</th>\n",
       "      <td>5.843333</td>\n",
       "      <td>3.057333</td>\n",
       "      <td>3.758000</td>\n",
       "      <td>1.199333</td>\n",
       "    </tr>\n",
       "    <tr>\n",
       "      <th>std</th>\n",
       "      <td>0.828066</td>\n",
       "      <td>0.435866</td>\n",
       "      <td>1.765298</td>\n",
       "      <td>0.762238</td>\n",
       "    </tr>\n",
       "    <tr>\n",
       "      <th>min</th>\n",
       "      <td>4.300000</td>\n",
       "      <td>2.000000</td>\n",
       "      <td>1.000000</td>\n",
       "      <td>0.100000</td>\n",
       "    </tr>\n",
       "    <tr>\n",
       "      <th>25%</th>\n",
       "      <td>5.100000</td>\n",
       "      <td>2.800000</td>\n",
       "      <td>1.600000</td>\n",
       "      <td>0.300000</td>\n",
       "    </tr>\n",
       "    <tr>\n",
       "      <th>50%</th>\n",
       "      <td>5.800000</td>\n",
       "      <td>3.000000</td>\n",
       "      <td>4.350000</td>\n",
       "      <td>1.300000</td>\n",
       "    </tr>\n",
       "    <tr>\n",
       "      <th>75%</th>\n",
       "      <td>6.400000</td>\n",
       "      <td>3.300000</td>\n",
       "      <td>5.100000</td>\n",
       "      <td>1.800000</td>\n",
       "    </tr>\n",
       "    <tr>\n",
       "      <th>max</th>\n",
       "      <td>7.900000</td>\n",
       "      <td>4.400000</td>\n",
       "      <td>6.900000</td>\n",
       "      <td>2.500000</td>\n",
       "    </tr>\n",
       "  </tbody>\n",
       "</table>\n",
       "</div>"
      ],
      "text/plain": [
       "       sepal length (cm)  sepal width (cm)  petal length (cm)  \\\n",
       "count         150.000000        150.000000         150.000000   \n",
       "mean            5.843333          3.057333           3.758000   \n",
       "std             0.828066          0.435866           1.765298   \n",
       "min             4.300000          2.000000           1.000000   \n",
       "25%             5.100000          2.800000           1.600000   \n",
       "50%             5.800000          3.000000           4.350000   \n",
       "75%             6.400000          3.300000           5.100000   \n",
       "max             7.900000          4.400000           6.900000   \n",
       "\n",
       "       petal width (cm)  \n",
       "count        150.000000  \n",
       "mean           1.199333  \n",
       "std            0.762238  \n",
       "min            0.100000  \n",
       "25%            0.300000  \n",
       "50%            1.300000  \n",
       "75%            1.800000  \n",
       "max            2.500000  "
      ]
     },
     "execution_count": 21,
     "metadata": {},
     "output_type": "execute_result"
    }
   ],
   "source": [
    "data_dict = sklearn.datasets.load_iris()\n",
    "x = pd.DataFrame(data_dict['data'], columns=data_dict['feature_names'])\n",
    "y = data_dict['target']\n",
    "x.describe()"
   ]
  },
  {
   "cell_type": "code",
   "execution_count": 22,
   "metadata": {},
   "outputs": [
    {
     "data": {
      "text/plain": [
       "(array([0, 1, 2]), array([50, 50, 50]))"
      ]
     },
     "execution_count": 22,
     "metadata": {},
     "output_type": "execute_result"
    }
   ],
   "source": [
    "np.unique(y, return_counts=True)"
   ]
  }
 ],
 "metadata": {
  "kernelspec": {
   "display_name": "Python 3",
   "language": "python",
   "name": "python3"
  },
  "language_info": {
   "codemirror_mode": {
    "name": "ipython",
    "version": 3
   },
   "file_extension": ".py",
   "mimetype": "text/x-python",
   "name": "python",
   "nbconvert_exporter": "python",
   "pygments_lexer": "ipython3",
   "version": "3.6.4"
  }
 },
 "nbformat": 4,
 "nbformat_minor": 2
}
