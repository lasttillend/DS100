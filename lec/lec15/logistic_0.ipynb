{
 "cells": [
  {
   "cell_type": "code",
   "execution_count": null,
   "metadata": {},
   "outputs": [],
   "source": [
    "import numpy as np\n",
    "import pandas as pd\n",
    "import matplotlib.pyplot as plt\n",
    "import seaborn as sns\n",
    "%matplotlib inline\n",
    "\n",
    "plt.rcParams['figure.figsize'] = (4, 4)\n",
    "plt.rcParams['figure.dpi'] = 150\n",
    "plt.rcParams['lines.linewidth'] = 3\n",
    "sns.set()"
   ]
  },
  {
   "cell_type": "markdown",
   "metadata": {},
   "source": [
    "## NBA"
   ]
  },
  {
   "cell_type": "code",
   "execution_count": null,
   "metadata": {},
   "outputs": [],
   "source": [
    "import requests\n",
    "import os\n",
    "\n",
    "def fetch():\n",
    "    path = 'nba.csv'\n",
    "    if not os.path.exists(path):\n",
    "        url = 'https://stats.nba.com/stats/leaguegamelog/'\n",
    "        params = (\n",
    "            ('Counter', '0'),\n",
    "            ('DateFrom', ''),\n",
    "            ('DateTo', ''),\n",
    "            ('Direction', 'ASC'),\n",
    "            ('LeagueID', '00'),\n",
    "            ('PlayerOrTeam', 'T'),\n",
    "            ('Season', '2017-18'),\n",
    "            ('SeasonType', 'Regular Season'),\n",
    "            ('Sorter', 'DATE'),\n",
    "        )\n",
    "        headers = {\n",
    "            'User-Agent': 'PostmanRuntime/7.4.0'\n",
    "        }\n",
    "        response = requests.get(url, params=params, headers=headers)\n",
    "        data = response.json()['resultSets'][0]\n",
    "        df = pd.DataFrame(data=data['rowSet'], columns=data['headers'])\n",
    "        df.to_csv(path, index=False)\n",
    "        return df\n",
    "    else:\n",
    "        return pd.read_csv(path)\n",
    "    \n",
    "df = fetch()"
   ]
  },
  {
   "cell_type": "code",
   "execution_count": null,
   "metadata": {},
   "outputs": [],
   "source": []
  },
  {
   "cell_type": "code",
   "execution_count": null,
   "metadata": {},
   "outputs": [],
   "source": []
  },
  {
   "cell_type": "code",
   "execution_count": null,
   "metadata": {},
   "outputs": [],
   "source": []
  },
  {
   "cell_type": "code",
   "execution_count": null,
   "metadata": {},
   "outputs": [],
   "source": []
  },
  {
   "cell_type": "code",
   "execution_count": null,
   "metadata": {},
   "outputs": [],
   "source": []
  },
  {
   "cell_type": "code",
   "execution_count": null,
   "metadata": {},
   "outputs": [],
   "source": []
  },
  {
   "cell_type": "code",
   "execution_count": null,
   "metadata": {},
   "outputs": [],
   "source": []
  },
  {
   "cell_type": "code",
   "execution_count": null,
   "metadata": {},
   "outputs": [],
   "source": []
  },
  {
   "cell_type": "markdown",
   "metadata": {},
   "source": [
    "## Logistic Regression"
   ]
  },
  {
   "cell_type": "markdown",
   "metadata": {},
   "source": [
    "One way to model the relationship between vector-valued $X$ and the conditional distribution of a binary categorical $Y \\in {0, 1}$ is to assume that the log odds ratio is linear in $X$:\n",
    "\n",
    "$$\\log \\left( \\frac{P(Y=1|X)}{P(Y=0|X)} \\right) = X^T \\beta$$\n",
    "\n",
    "Abbreviate $P(Y=1|X)$ as $p$ and $X^T \\beta$ as $t$, then:\n",
    "\n",
    "\\begin{align*}\n",
    "\\log \\left( \\frac{P(Y=1|X)}{P(Y=0|X)} \\right) &= X^T \\beta && \\text{} \\\\[10pt]\n",
    "\\log \\left( \\frac{p}{1-p} \\right) &= t && \\text{; Abbreviate and complement rule} \\\\[10pt]\n",
    "\\frac{p}{1-p} &= \\exp(t) && \\text{; exponentiate both sides} \\\\[10pt]\n",
    "p &= \\exp(t) - p \\exp(t) && \\text{; multiply by $1-p$} \\\\[10pt]\n",
    "p (1 + \\exp(t)) &= \\exp(t) && \\text{; add $p \\exp(t)$ and factor out $p$} \\\\[10pt]\n",
    "p &= \\frac{\\exp(t)}{1 + \\exp(t)} && \\text{; divide by $1 + \\exp(t)$} \\\\[10pt]\n",
    "p &= \\frac{1}{1 + \\exp(-t)} && \\text{; multiply by $\\frac{\\exp(-t)}{\\exp(-t)}$} \\\\[10pt]\n",
    "P(Y=1|X) &= \\frac{1}{1 + \\exp(-X^T \\beta)} && \\text{; Unabbreviate}\n",
    "\\end{align*}\n",
    "\n",
    "This transformation is called the logistic function, traditionally denoted $\\sigma$ (sigma).\n",
    "\n",
    "$$\\sigma(t) = \\frac{1}{1 + \\exp(-t)}$$"
   ]
  },
  {
   "cell_type": "code",
   "execution_count": null,
   "metadata": {},
   "outputs": [],
   "source": [
    "def sigma(t):\n",
    "    return 1 / (1 + np.exp(-t))"
   ]
  },
  {
   "cell_type": "code",
   "execution_count": null,
   "metadata": {},
   "outputs": [],
   "source": [
    "def flatten(li): \n",
    "    return [item for sub in li for item in sub]\n",
    "\n",
    "bs = [-2, -1, -0.5, 2, 1, 0.5]\n",
    "xs = np.linspace(-10, 10, 100)\n",
    "\n",
    "fig, axes = plt.subplots(2, 3, sharex=True, sharey=True, figsize=(10, 6))\n",
    "for ax, b in zip(flatten(axes), bs):\n",
    "    ys = sigma(xs * b)\n",
    "    ax.plot(xs, ys)\n",
    "    ax.set_title(r'$ b = $' + str(b))\n",
    "\n",
    "# add a big axes, hide frame\n",
    "fig.add_subplot(111, frameon=False)\n",
    "# hide tick and tick label of the big axes\n",
    "plt.tick_params(labelcolor='none', top=False, bottom=False,\n",
    "                left=False, right=False)\n",
    "plt.grid(False)\n",
    "plt.xlabel('$x$')\n",
    "plt.ylabel(r'$ \\frac{1}{1+\\exp(-b \\cdot x)} $')\n",
    "plt.tight_layout()"
   ]
  },
  {
   "cell_type": "markdown",
   "metadata": {},
   "source": [
    "## Log Loss (a.k.a., Cross-Entropy Loss)"
   ]
  },
  {
   "cell_type": "code",
   "execution_count": null,
   "metadata": {},
   "outputs": [],
   "source": [
    "toy = pd.DataFrame({\n",
    "    'X': [-5, -4, -3, -2, -1, 1, 2, 3, 4, 5],\n",
    "    'Y': [ 0,  0,  0,  0,  1, 0, 1, 1, 1, 1]\n",
    "})\n",
    "plt.scatter(toy['X'], toy['Y']);"
   ]
  },
  {
   "cell_type": "code",
   "execution_count": null,
   "metadata": {},
   "outputs": [],
   "source": []
  },
  {
   "cell_type": "code",
   "execution_count": null,
   "metadata": {},
   "outputs": [],
   "source": []
  },
  {
   "cell_type": "code",
   "execution_count": null,
   "metadata": {},
   "outputs": [],
   "source": []
  },
  {
   "cell_type": "code",
   "execution_count": null,
   "metadata": {},
   "outputs": [],
   "source": []
  },
  {
   "cell_type": "code",
   "execution_count": null,
   "metadata": {},
   "outputs": [],
   "source": []
  },
  {
   "cell_type": "code",
   "execution_count": null,
   "metadata": {},
   "outputs": [],
   "source": []
  },
  {
   "cell_type": "code",
   "execution_count": null,
   "metadata": {},
   "outputs": [],
   "source": [
    "def empirical_risk(b, loss):\n",
    "    y_hats = sigma(toy['X'] * b)\n",
    "    losses = [loss(y, y_hat) for y, y_hat in zip(toy['Y'], y_hats)]\n",
    "    return np.average(losses)\n",
    "\n",
    "def squared_loss(y, y_hat):\n",
    "    return (y - y_hat) ** 2\n",
    "\n",
    "bs = np.linspace(-4, 4, 50)\n",
    "\n",
    "plt.plot(bs, [empirical_risk(b, squared_loss) for b in bs]);\n",
    "plt.xlabel('b')\n",
    "plt.ylabel('empirical risk')"
   ]
  },
  {
   "cell_type": "code",
   "execution_count": null,
   "metadata": {},
   "outputs": [],
   "source": [
    "p_hat = np.arange(0.001, 0.999, 0.01)\n",
    "loss = -np.log(p_hat)\n",
    "plt.plot(p_hat, loss, color='k')\n",
    "plt.xlabel('$\\hat{p}$: Predicted Chance of Correct Class')\n",
    "plt.ylabel('$-\\log(\\hat{p})$')\n",
    "plt.title('Loss for One Individual');"
   ]
  },
  {
   "cell_type": "code",
   "execution_count": null,
   "metadata": {},
   "outputs": [],
   "source": [
    "# Predicted chance of class 1.\n",
    "x = np.arange(-5, 5, 0.01)\n",
    "px = sigma(x)\n",
    "plt.plot(x, px, color = 'darkblue')\n",
    "\n",
    "def add_points(xs, y, color):\n",
    "    plt.scatter(xs, [y] * len(xs), color=color, s=40)\n",
    "    for x in xs:\n",
    "        plt.plot([x, x], [1-y, sigma(x)], color=color)\n",
    "\n",
    "add_points(np.array([-5, -4, -3, -2, 1]), 0, 'gold')\n",
    "add_points(np.array([-1, 2, 3, 4, 5]), 1, 'darkblue')\n",
    "        \n",
    "plt.xlabel('x')\n",
    "plt.title('Predicted Chance of Correct Class');"
   ]
  },
  {
   "cell_type": "markdown",
   "metadata": {},
   "source": [
    "Log loss (a.k.a., cross-entropy loss)\n",
    "$$\n",
    "-y_i\\log(\\sigma(x_i^T \\beta)) - (1-y_i)\\log(1-\\sigma(x_i^T \\beta))\n",
    "$$"
   ]
  },
  {
   "cell_type": "code",
   "execution_count": null,
   "metadata": {},
   "outputs": [],
   "source": [
    "def log_loss(y, y_hat):\n",
    "    return -y * np.log(y_hat) - (1-y) * np.log(1-y_hat)\n",
    "\n",
    "plt.plot(bs, [empirical_risk(b, log_loss) for b in bs]);\n",
    "plt.xlabel('b')\n",
    "plt.ylabel('empirical risk')"
   ]
  },
  {
   "cell_type": "markdown",
   "metadata": {},
   "source": [
    "## Applying Logistic Regression"
   ]
  },
  {
   "cell_type": "code",
   "execution_count": null,
   "metadata": {},
   "outputs": [],
   "source": [
    "games.iloc[0]"
   ]
  },
  {
   "cell_type": "code",
   "execution_count": null,
   "metadata": {},
   "outputs": [],
   "source": [
    "sns.jointplot('FG_PCT_DIFF', 'WON', \n",
    "              kind='reg', y_jitter=0.1, \n",
    "              logistic=True, ci=None,\n",
    "              data=games);"
   ]
  },
  {
   "cell_type": "code",
   "execution_count": null,
   "metadata": {},
   "outputs": [],
   "source": []
  },
  {
   "cell_type": "code",
   "execution_count": null,
   "metadata": {},
   "outputs": [],
   "source": []
  },
  {
   "cell_type": "code",
   "execution_count": null,
   "metadata": {},
   "outputs": [],
   "source": []
  },
  {
   "cell_type": "code",
   "execution_count": null,
   "metadata": {},
   "outputs": [],
   "source": []
  },
  {
   "cell_type": "code",
   "execution_count": null,
   "metadata": {},
   "outputs": [],
   "source": []
  },
  {
   "cell_type": "code",
   "execution_count": null,
   "metadata": {},
   "outputs": [],
   "source": [
    "b = minimize(risk, 1)['x'][0]\n",
    "win_rates.plot();\n",
    "plt.plot(fg_pct_diffs, sigma(fg_pct_diffs * b));"
   ]
  }
 ],
 "metadata": {
  "kernelspec": {
   "display_name": "Python 3",
   "language": "python",
   "name": "python3"
  },
  "language_info": {
   "codemirror_mode": {
    "name": "ipython",
    "version": 3
   },
   "file_extension": ".py",
   "mimetype": "text/x-python",
   "name": "python",
   "nbconvert_exporter": "python",
   "pygments_lexer": "ipython3",
   "version": "3.6.7"
  }
 },
 "nbformat": 4,
 "nbformat_minor": 2
}
