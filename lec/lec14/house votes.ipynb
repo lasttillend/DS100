{
 "cells": [
  {
   "cell_type": "markdown",
   "metadata": {},
   "source": [
    "### Download House votes in the last month."
   ]
  },
  {
   "cell_type": "markdown",
   "metadata": {},
   "source": [
    "To use this notebook, first acquire a Propublica API key from here:\n",
    "\n",
    "https://www.propublica.org/datastore/api/propublica-congress-api"
   ]
  },
  {
   "cell_type": "code",
   "execution_count": null,
   "metadata": {},
   "outputs": [],
   "source": [
    "!pip install python-congress\n",
    "from congress import Congress\n",
    "\n",
    "api_key='FILL THIS IN' \n",
    "congress = Congress(api_key)\n",
    "s = congress.votes.by_month('house')"
   ]
  },
  {
   "cell_type": "code",
   "execution_count": null,
   "metadata": {},
   "outputs": [],
   "source": [
    "results = []\n",
    "for v in s['votes']:\n",
    "    args = (v['chamber'], v['roll_call'], v['session'])\n",
    "    results.append((args, congress.votes.get(*args)))"
   ]
  },
  {
   "cell_type": "code",
   "execution_count": null,
   "metadata": {},
   "outputs": [],
   "source": [
    "votes = []\n",
    "for (chamber, number, session), v in results:\n",
    "    for p in v['votes']['vote']['positions']:\n",
    "        mem_id = p['member_id']\n",
    "        vote = p['vote_position']\n",
    "        votes.append((chamber, session, number, mem_id, vote))"
   ]
  },
  {
   "cell_type": "code",
   "execution_count": null,
   "metadata": {},
   "outputs": [],
   "source": [
    "import pandas as pd\n",
    "pd.DataFrame(columns=['chamber', 'session', 'roll call', 'member', 'vote'],\n",
    "             data=votes).to_csv('votes.csv', index=False)"
   ]
  }
 ],
 "metadata": {
  "kernelspec": {
   "display_name": "Python 3",
   "language": "python",
   "name": "python3"
  },
  "language_info": {
   "codemirror_mode": {
    "name": "ipython",
    "version": 3
   },
   "file_extension": ".py",
   "mimetype": "text/x-python",
   "name": "python",
   "nbconvert_exporter": "python",
   "pygments_lexer": "ipython3",
   "version": "3.6.7"
  }
 },
 "nbformat": 4,
 "nbformat_minor": 2
}
